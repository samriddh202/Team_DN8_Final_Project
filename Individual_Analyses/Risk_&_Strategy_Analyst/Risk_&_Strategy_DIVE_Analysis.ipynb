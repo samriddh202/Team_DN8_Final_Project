{
 "cells": [
  {
   "cell_type": "markdown",
   "id": "eea6b148-75d7-4bf6-b7be-6bac3374c05f",
   "metadata": {},
   "source": [
    "# DIVE Analysis: Risk & Strategy\n",
    "### Samriddh Gupta\n",
    "### Project: NBA Player Performance vs. Salary Analysis\n",
    "\n",
    "**My Core Objective:** To look beyond the immediate \"bang-for-buck\" analysis and build a 24-month strategic roadmap for an NBA front office. My focus is on long-term value, identifying future franchise pillars, and mitigating contract risks to ensure sustained success."
   ]
  },
  {
   "cell_type": "markdown",
   "id": "8d31e58c-5538-45af-8d35-8cb43c06f3e7",
   "metadata": {},
   "source": [
    "--- \n",
    "## Part A: DISCOVER - Identifying the Strategic Landscape\n",
    "\n",
    "**Goal:** To get a high-level view of the league's talent distribution, focusing on the intersection of age, performance, and value. This phase is about finding the initial signals of strategic opportunity and risk.\n",
    "\n",
    "**Key Questions:**\n",
    "\n",
    "1. Which young players (under 26) show the highest potential value (high `PS/$M` and strong negative `Rank Gap`)?\n",
    "\n",
    "2. Which veteran players (over 30) are on large, potentially risky contracts?\n",
    "\n",
    "3. What initial patterns emerge when plotting `Age` vs. `Performance Score` and `Age` vs. `PS/$M` across the league?\n",
    "\n",
    "**Methodology & Analysis:**\n",
    "\n",
    "* **Filtering:** Create subsets of the data for different age brackets (e.g., Under 23, 23-26, 27-30, Over 30).\n",
    "\n",
    "* **Visualization:**\n",
    "\n",
    "  * Create a scatter plot of `Age` vs. `Performance Score` to identify performance peaks.\n",
    "\n",
    "  * Create a scatter plot of `Age` vs. `PS/$M` to find high-value, efficient players.\n",
    "\n",
    "  * Generate a list of the top 15 players under 26 based on `PS/$M`. This will be my initial \"Future Pillars Watchlist.\""
   ]
  },
  {
   "cell_type": "markdown",
   "id": "abf47a43-ff6e-4788-9980-f42d1786e76a",
   "metadata": {},
   "source": [
    "### Gemini Prompt Used: Discover\n",
    "\"I am the Risk & Strategy Analyst for a consulting project analyzing the NBA's 2022-2023 player dataset. My goal is to identify long-term strategic opportunities. I'm starting my DISCOVER phase by plotting player Age vs. Performance Score and Age vs. our value metric, 'PS/$M'.\n",
    "\n",
    "Here is a summary of my initial data exploration and charts: [Paste initial findings, chart descriptions, or key data points here].\n",
    "\n",
    "Based on this, help me:\n",
    "\n",
    "Identify the 3-5 most significant strategic patterns or trends regarding age, performance, and value.\n",
    "What are the most interesting initial insights that jump out from this data?\n",
    "What key metrics should I track to identify future franchise pillars and high-risk contracts?\"\n"
   ]
  },
  {
   "cell_type": "code",
   "execution_count": 1,
   "id": "7ee34bb1-9579-406a-acc3-73ef19410e0a",
   "metadata": {},
   "outputs": [
    {
     "name": "stdout",
     "output_type": "stream",
     "text": [
      "✅ Libraries imported successfully.\n"
     ]
    }
   ],
   "source": [
    "# ==============================================================================\n",
    "# Cell 1: Import Necessary Libraries\n",
    "# ==============================================================================\n",
    "import pandas as pd\n",
    "import plotly.express as px\n",
    "from google.cloud import bigquery\n",
    "import warnings\n",
    "\n",
    "# Ignore a common warning from the BigQuery library\n",
    "warnings.filterwarnings('ignore', category=FutureWarning)\n",
    "\n",
    "print(\"✅ Libraries imported successfully.\")"
   ]
  },
  {
   "cell_type": "code",
   "execution_count": 2,
   "id": "a39336d3-6888-4592-a95c-9a06f297de6d",
   "metadata": {},
   "outputs": [
    {
     "name": "stdout",
     "output_type": "stream",
     "text": [
      "✅ Authenticated and connected to project: mgmt599-project-carlorama-lab2\n"
     ]
    },
    {
     "name": "stderr",
     "output_type": "stream",
     "text": [
      "C:\\Users\\Samriddh Gupta\\AppData\\Local\\Programs\\Python\\Python312\\Lib\\site-packages\\google\\cloud\\bigquery\\table.py:1957: UserWarning: BigQuery Storage module not found, fetch data with the REST endpoint instead.\n",
      "  warnings.warn(\n"
     ]
    },
    {
     "name": "stdout",
     "output_type": "stream",
     "text": [
      "✅ Successfully loaded 896 rows from BigQuery.\n"
     ]
    },
    {
     "data": {
      "text/html": [
       "<div>\n",
       "<style scoped>\n",
       "    .dataframe tbody tr th:only-of-type {\n",
       "        vertical-align: middle;\n",
       "    }\n",
       "\n",
       "    .dataframe tbody tr th {\n",
       "        vertical-align: top;\n",
       "    }\n",
       "\n",
       "    .dataframe thead th {\n",
       "        text-align: right;\n",
       "    }\n",
       "</style>\n",
       "<table border=\"1\" class=\"dataframe\">\n",
       "  <thead>\n",
       "    <tr style=\"text-align: right;\">\n",
       "      <th></th>\n",
       "      <th>Rk</th>\n",
       "      <th>Player</th>\n",
       "      <th>Age</th>\n",
       "      <th>Team</th>\n",
       "      <th>Pos</th>\n",
       "      <th>G</th>\n",
       "      <th>GS</th>\n",
       "      <th>MP</th>\n",
       "      <th>FG</th>\n",
       "      <th>FGA</th>\n",
       "      <th>...</th>\n",
       "      <th>STL</th>\n",
       "      <th>BLK</th>\n",
       "      <th>TOV</th>\n",
       "      <th>PF</th>\n",
       "      <th>PTS</th>\n",
       "      <th>Awards</th>\n",
       "      <th>Player-additional</th>\n",
       "      <th>Season Type</th>\n",
       "      <th>PER</th>\n",
       "      <th>Adjusted Salary</th>\n",
       "    </tr>\n",
       "  </thead>\n",
       "  <tbody>\n",
       "    <tr>\n",
       "      <th>0</th>\n",
       "      <td>1</td>\n",
       "      <td>Joel Embiid</td>\n",
       "      <td>28</td>\n",
       "      <td>PHI</td>\n",
       "      <td>C</td>\n",
       "      <td>66.0</td>\n",
       "      <td>66.0</td>\n",
       "      <td>34.6</td>\n",
       "      <td>11.0</td>\n",
       "      <td>20.1</td>\n",
       "      <td>...</td>\n",
       "      <td>1.0</td>\n",
       "      <td>1.7</td>\n",
       "      <td>3.4</td>\n",
       "      <td>3.1</td>\n",
       "      <td>33.1</td>\n",
       "      <td>MVP-1DPOY-9CPOY-5ASNBA1</td>\n",
       "      <td>embiijo01</td>\n",
       "      <td>Regular</td>\n",
       "      <td>31.4</td>\n",
       "      <td>35605377.25</td>\n",
       "    </tr>\n",
       "    <tr>\n",
       "      <th>1</th>\n",
       "      <td>2</td>\n",
       "      <td>Luka Dončić</td>\n",
       "      <td>23</td>\n",
       "      <td>DAL</td>\n",
       "      <td>PG</td>\n",
       "      <td>66.0</td>\n",
       "      <td>66.0</td>\n",
       "      <td>36.2</td>\n",
       "      <td>10.9</td>\n",
       "      <td>22.0</td>\n",
       "      <td>...</td>\n",
       "      <td>1.4</td>\n",
       "      <td>0.5</td>\n",
       "      <td>3.6</td>\n",
       "      <td>2.5</td>\n",
       "      <td>32.4</td>\n",
       "      <td>MVP-8CPOY-8ASNBA1</td>\n",
       "      <td>doncilu01</td>\n",
       "      <td>Regular</td>\n",
       "      <td>28.7</td>\n",
       "      <td>39290951.43</td>\n",
       "    </tr>\n",
       "    <tr>\n",
       "      <th>2</th>\n",
       "      <td>3</td>\n",
       "      <td>Damian Lillard</td>\n",
       "      <td>32</td>\n",
       "      <td>POR</td>\n",
       "      <td>PG</td>\n",
       "      <td>58.0</td>\n",
       "      <td>58.0</td>\n",
       "      <td>36.3</td>\n",
       "      <td>9.6</td>\n",
       "      <td>20.7</td>\n",
       "      <td>...</td>\n",
       "      <td>0.9</td>\n",
       "      <td>0.3</td>\n",
       "      <td>3.3</td>\n",
       "      <td>1.9</td>\n",
       "      <td>32.2</td>\n",
       "      <td>CPOY-10ASNBA3</td>\n",
       "      <td>lillada01</td>\n",
       "      <td>Regular</td>\n",
       "      <td>26.7</td>\n",
       "      <td>45006144.50</td>\n",
       "    </tr>\n",
       "    <tr>\n",
       "      <th>3</th>\n",
       "      <td>4</td>\n",
       "      <td>Shai Gilgeous-Alexander</td>\n",
       "      <td>24</td>\n",
       "      <td>OKC</td>\n",
       "      <td>PG</td>\n",
       "      <td>68.0</td>\n",
       "      <td>68.0</td>\n",
       "      <td>35.5</td>\n",
       "      <td>10.4</td>\n",
       "      <td>20.3</td>\n",
       "      <td>...</td>\n",
       "      <td>1.6</td>\n",
       "      <td>1.0</td>\n",
       "      <td>2.8</td>\n",
       "      <td>2.8</td>\n",
       "      <td>31.4</td>\n",
       "      <td>MVP-5CPOY-7ASNBA1</td>\n",
       "      <td>gilgesh01</td>\n",
       "      <td>Regular</td>\n",
       "      <td>27.2</td>\n",
       "      <td>32742459.52</td>\n",
       "    </tr>\n",
       "    <tr>\n",
       "      <th>4</th>\n",
       "      <td>5</td>\n",
       "      <td>Giannis Antetokounmpo</td>\n",
       "      <td>28</td>\n",
       "      <td>MIL</td>\n",
       "      <td>PF</td>\n",
       "      <td>63.0</td>\n",
       "      <td>63.0</td>\n",
       "      <td>32.1</td>\n",
       "      <td>11.2</td>\n",
       "      <td>20.3</td>\n",
       "      <td>...</td>\n",
       "      <td>0.8</td>\n",
       "      <td>0.8</td>\n",
       "      <td>3.9</td>\n",
       "      <td>3.1</td>\n",
       "      <td>31.1</td>\n",
       "      <td>MVP-3DPOY-6ASNBA1</td>\n",
       "      <td>antetgi01</td>\n",
       "      <td>Regular</td>\n",
       "      <td>29.0</td>\n",
       "      <td>45006144.50</td>\n",
       "    </tr>\n",
       "  </tbody>\n",
       "</table>\n",
       "<p>5 rows × 35 columns</p>\n",
       "</div>"
      ],
      "text/plain": [
       "   Rk                   Player  Age Team Pos     G    GS    MP    FG   FGA  \\\n",
       "0   1              Joel Embiid   28  PHI   C  66.0  66.0  34.6  11.0  20.1   \n",
       "1   2              Luka Dončić   23  DAL  PG  66.0  66.0  36.2  10.9  22.0   \n",
       "2   3           Damian Lillard   32  POR  PG  58.0  58.0  36.3   9.6  20.7   \n",
       "3   4  Shai Gilgeous-Alexander   24  OKC  PG  68.0  68.0  35.5  10.4  20.3   \n",
       "4   5    Giannis Antetokounmpo   28  MIL  PF  63.0  63.0  32.1  11.2  20.3   \n",
       "\n",
       "   ...  STL  BLK  TOV   PF   PTS                   Awards  Player-additional  \\\n",
       "0  ...  1.0  1.7  3.4  3.1  33.1  MVP-1DPOY-9CPOY-5ASNBA1          embiijo01   \n",
       "1  ...  1.4  0.5  3.6  2.5  32.4        MVP-8CPOY-8ASNBA1          doncilu01   \n",
       "2  ...  0.9  0.3  3.3  1.9  32.2            CPOY-10ASNBA3          lillada01   \n",
       "3  ...  1.6  1.0  2.8  2.8  31.4        MVP-5CPOY-7ASNBA1          gilgesh01   \n",
       "4  ...  0.8  0.8  3.9  3.1  31.1        MVP-3DPOY-6ASNBA1          antetgi01   \n",
       "\n",
       "   Season Type   PER  Adjusted Salary  \n",
       "0      Regular  31.4      35605377.25  \n",
       "1      Regular  28.7      39290951.43  \n",
       "2      Regular  26.7      45006144.50  \n",
       "3      Regular  27.2      32742459.52  \n",
       "4      Regular  29.0      45006144.50  \n",
       "\n",
       "[5 rows x 35 columns]"
      ]
     },
     "metadata": {},
     "output_type": "display_data"
    }
   ],
   "source": [
    "# ==============================================================================\n",
    "# Cell 2: Connect to BigQuery and Load Data\n",
    "# ==============================================================================\n",
    "# --- Configuration ---\n",
    "# IMPORTANT: Authenticate in your terminal first by running:\n",
    "# gcloud auth application-default login\n",
    "\n",
    "project_id = 'mgmt599-project-carlorama-lab2'\n",
    "dataset_name = 'nba_2023'\n",
    "table_name = 'player_perf'\n",
    "df = None # Initialize df to None\n",
    "\n",
    "# --- Connect and Query ---\n",
    "try:\n",
    "    client = bigquery.Client(project=project_id)\n",
    "    print(f\"✅ Authenticated and connected to project: {project_id}\")\n",
    "    \n",
    "    sql_query = f\"SELECT * FROM `{project_id}.{dataset_name}.{table_name}`\"\n",
    "    df = client.query(sql_query).to_dataframe()\n",
    "    \n",
    "    print(f\"✅ Successfully loaded {len(df)} rows from BigQuery.\")\n",
    "    display(df.head())\n",
    "\n",
    "except Exception as e:\n",
    "    print(f\"❌ Authentication or query failed. Please check your setup.\")\n",
    "    print(f\"Error: {e}\")"
   ]
  },
  {
   "cell_type": "code",
   "execution_count": 3,
   "id": "479359de-cea9-4033-bb86-67c6c35cc04b",
   "metadata": {},
   "outputs": [
    {
     "name": "stdout",
     "output_type": "stream",
     "text": [
      "✅ Data cleaning and preparation complete.\n",
      "   0 rows with missing data were removed.\n"
     ]
    },
    {
     "data": {
      "text/html": [
       "<div>\n",
       "<style scoped>\n",
       "    .dataframe tbody tr th:only-of-type {\n",
       "        vertical-align: middle;\n",
       "    }\n",
       "\n",
       "    .dataframe tbody tr th {\n",
       "        vertical-align: top;\n",
       "    }\n",
       "\n",
       "    .dataframe thead th {\n",
       "        text-align: right;\n",
       "    }\n",
       "</style>\n",
       "<table border=\"1\" class=\"dataframe\">\n",
       "  <thead>\n",
       "    <tr style=\"text-align: right;\">\n",
       "      <th></th>\n",
       "      <th>Rk</th>\n",
       "      <th>PLAYER</th>\n",
       "      <th>AGE</th>\n",
       "      <th>TEAM</th>\n",
       "      <th>POS</th>\n",
       "      <th>G</th>\n",
       "      <th>GS</th>\n",
       "      <th>MP</th>\n",
       "      <th>FG</th>\n",
       "      <th>FGA</th>\n",
       "      <th>...</th>\n",
       "      <th>STL</th>\n",
       "      <th>BLK</th>\n",
       "      <th>TOV</th>\n",
       "      <th>PF</th>\n",
       "      <th>PTS</th>\n",
       "      <th>Awards</th>\n",
       "      <th>Player-additional</th>\n",
       "      <th>Season Type</th>\n",
       "      <th>PER</th>\n",
       "      <th>SALARY_ADJUSTED</th>\n",
       "    </tr>\n",
       "  </thead>\n",
       "  <tbody>\n",
       "    <tr>\n",
       "      <th>0</th>\n",
       "      <td>1</td>\n",
       "      <td>Joel Embiid</td>\n",
       "      <td>28</td>\n",
       "      <td>PHI</td>\n",
       "      <td>C</td>\n",
       "      <td>66.0</td>\n",
       "      <td>66.0</td>\n",
       "      <td>34.6</td>\n",
       "      <td>11.0</td>\n",
       "      <td>20.1</td>\n",
       "      <td>...</td>\n",
       "      <td>1.0</td>\n",
       "      <td>1.7</td>\n",
       "      <td>3.4</td>\n",
       "      <td>3.1</td>\n",
       "      <td>33.1</td>\n",
       "      <td>MVP-1DPOY-9CPOY-5ASNBA1</td>\n",
       "      <td>embiijo01</td>\n",
       "      <td>Regular</td>\n",
       "      <td>31.4</td>\n",
       "      <td>35605377.25</td>\n",
       "    </tr>\n",
       "    <tr>\n",
       "      <th>1</th>\n",
       "      <td>2</td>\n",
       "      <td>Luka Dončić</td>\n",
       "      <td>23</td>\n",
       "      <td>DAL</td>\n",
       "      <td>PG</td>\n",
       "      <td>66.0</td>\n",
       "      <td>66.0</td>\n",
       "      <td>36.2</td>\n",
       "      <td>10.9</td>\n",
       "      <td>22.0</td>\n",
       "      <td>...</td>\n",
       "      <td>1.4</td>\n",
       "      <td>0.5</td>\n",
       "      <td>3.6</td>\n",
       "      <td>2.5</td>\n",
       "      <td>32.4</td>\n",
       "      <td>MVP-8CPOY-8ASNBA1</td>\n",
       "      <td>doncilu01</td>\n",
       "      <td>Regular</td>\n",
       "      <td>28.7</td>\n",
       "      <td>39290951.43</td>\n",
       "    </tr>\n",
       "    <tr>\n",
       "      <th>2</th>\n",
       "      <td>3</td>\n",
       "      <td>Damian Lillard</td>\n",
       "      <td>32</td>\n",
       "      <td>POR</td>\n",
       "      <td>PG</td>\n",
       "      <td>58.0</td>\n",
       "      <td>58.0</td>\n",
       "      <td>36.3</td>\n",
       "      <td>9.6</td>\n",
       "      <td>20.7</td>\n",
       "      <td>...</td>\n",
       "      <td>0.9</td>\n",
       "      <td>0.3</td>\n",
       "      <td>3.3</td>\n",
       "      <td>1.9</td>\n",
       "      <td>32.2</td>\n",
       "      <td>CPOY-10ASNBA3</td>\n",
       "      <td>lillada01</td>\n",
       "      <td>Regular</td>\n",
       "      <td>26.7</td>\n",
       "      <td>45006144.50</td>\n",
       "    </tr>\n",
       "    <tr>\n",
       "      <th>3</th>\n",
       "      <td>4</td>\n",
       "      <td>Shai Gilgeous-Alexander</td>\n",
       "      <td>24</td>\n",
       "      <td>OKC</td>\n",
       "      <td>PG</td>\n",
       "      <td>68.0</td>\n",
       "      <td>68.0</td>\n",
       "      <td>35.5</td>\n",
       "      <td>10.4</td>\n",
       "      <td>20.3</td>\n",
       "      <td>...</td>\n",
       "      <td>1.6</td>\n",
       "      <td>1.0</td>\n",
       "      <td>2.8</td>\n",
       "      <td>2.8</td>\n",
       "      <td>31.4</td>\n",
       "      <td>MVP-5CPOY-7ASNBA1</td>\n",
       "      <td>gilgesh01</td>\n",
       "      <td>Regular</td>\n",
       "      <td>27.2</td>\n",
       "      <td>32742459.52</td>\n",
       "    </tr>\n",
       "    <tr>\n",
       "      <th>4</th>\n",
       "      <td>5</td>\n",
       "      <td>Giannis Antetokounmpo</td>\n",
       "      <td>28</td>\n",
       "      <td>MIL</td>\n",
       "      <td>PF</td>\n",
       "      <td>63.0</td>\n",
       "      <td>63.0</td>\n",
       "      <td>32.1</td>\n",
       "      <td>11.2</td>\n",
       "      <td>20.3</td>\n",
       "      <td>...</td>\n",
       "      <td>0.8</td>\n",
       "      <td>0.8</td>\n",
       "      <td>3.9</td>\n",
       "      <td>3.1</td>\n",
       "      <td>31.1</td>\n",
       "      <td>MVP-3DPOY-6ASNBA1</td>\n",
       "      <td>antetgi01</td>\n",
       "      <td>Regular</td>\n",
       "      <td>29.0</td>\n",
       "      <td>45006144.50</td>\n",
       "    </tr>\n",
       "  </tbody>\n",
       "</table>\n",
       "<p>5 rows × 35 columns</p>\n",
       "</div>"
      ],
      "text/plain": [
       "   Rk                   PLAYER  AGE TEAM POS     G    GS    MP    FG   FGA  \\\n",
       "0   1              Joel Embiid   28  PHI   C  66.0  66.0  34.6  11.0  20.1   \n",
       "1   2              Luka Dončić   23  DAL  PG  66.0  66.0  36.2  10.9  22.0   \n",
       "2   3           Damian Lillard   32  POR  PG  58.0  58.0  36.3   9.6  20.7   \n",
       "3   4  Shai Gilgeous-Alexander   24  OKC  PG  68.0  68.0  35.5  10.4  20.3   \n",
       "4   5    Giannis Antetokounmpo   28  MIL  PF  63.0  63.0  32.1  11.2  20.3   \n",
       "\n",
       "   ...  STL  BLK  TOV   PF   PTS                   Awards  Player-additional  \\\n",
       "0  ...  1.0  1.7  3.4  3.1  33.1  MVP-1DPOY-9CPOY-5ASNBA1          embiijo01   \n",
       "1  ...  1.4  0.5  3.6  2.5  32.4        MVP-8CPOY-8ASNBA1          doncilu01   \n",
       "2  ...  0.9  0.3  3.3  1.9  32.2            CPOY-10ASNBA3          lillada01   \n",
       "3  ...  1.6  1.0  2.8  2.8  31.4        MVP-5CPOY-7ASNBA1          gilgesh01   \n",
       "4  ...  0.8  0.8  3.9  3.1  31.1        MVP-3DPOY-6ASNBA1          antetgi01   \n",
       "\n",
       "   Season Type   PER  SALARY_ADJUSTED  \n",
       "0      Regular  31.4      35605377.25  \n",
       "1      Regular  28.7      39290951.43  \n",
       "2      Regular  26.7      45006144.50  \n",
       "3      Regular  27.2      32742459.52  \n",
       "4      Regular  29.0      45006144.50  \n",
       "\n",
       "[5 rows x 35 columns]"
      ]
     },
     "metadata": {},
     "output_type": "display_data"
    }
   ],
   "source": [
    "# ==============================================================================\n",
    "# Cell 3: Data Cleaning and Preparation\n",
    "# ==============================================================================\n",
    "if df is not None:\n",
    "    # Standardize column names\n",
    "    df.rename(columns={\n",
    "        'Player': 'PLAYER',\n",
    "        'Age': 'AGE',\n",
    "        'Team': 'TEAM',\n",
    "        'Pos': 'POS',\n",
    "        'Adjusted Salary': 'SALARY_ADJUSTED',\n",
    "        'TRB': 'REB' # Using TRB (Total Rebounds) for REB\n",
    "    }, inplace=True)\n",
    "\n",
    "    # Ensure key columns are numeric\n",
    "    numeric_cols = ['AGE', 'PER', 'PTS', 'AST', 'REB', 'BLK', 'MP', 'SALARY_ADJUSTED']\n",
    "    for col in numeric_cols:\n",
    "        df[col] = pd.to_numeric(df[col], errors='coerce')\n",
    "    \n",
    "    # Drop rows with missing values in our key columns\n",
    "    original_rows = len(df)\n",
    "    df.dropna(subset=numeric_cols, inplace=True)\n",
    "    \n",
    "    print(\"✅ Data cleaning and preparation complete.\")\n",
    "    print(f\"   {original_rows - len(df)} rows with missing data were removed.\")\n",
    "    display(df.head())"
   ]
  },
  {
   "cell_type": "code",
   "execution_count": 4,
   "id": "c733d255-7e6b-491f-9c0d-b07acae8b502",
   "metadata": {},
   "outputs": [
    {
     "name": "stdout",
     "output_type": "stream",
     "text": [
      "Calculating custom metrics...\n",
      "✅ DataFrame with custom metrics created successfully.\n",
      "\n",
      "--- Custom Metrics Overview ---\n"
     ]
    },
    {
     "data": {
      "text/html": [
       "<div>\n",
       "<style scoped>\n",
       "    .dataframe tbody tr th:only-of-type {\n",
       "        vertical-align: middle;\n",
       "    }\n",
       "\n",
       "    .dataframe tbody tr th {\n",
       "        vertical-align: top;\n",
       "    }\n",
       "\n",
       "    .dataframe thead th {\n",
       "        text-align: right;\n",
       "    }\n",
       "</style>\n",
       "<table border=\"1\" class=\"dataframe\">\n",
       "  <thead>\n",
       "    <tr style=\"text-align: right;\">\n",
       "      <th></th>\n",
       "      <th>PLAYER</th>\n",
       "      <th>AGE</th>\n",
       "      <th>Performance_Score</th>\n",
       "      <th>Rank_Gap</th>\n",
       "      <th>PS_per_Million</th>\n",
       "    </tr>\n",
       "  </thead>\n",
       "  <tbody>\n",
       "    <tr>\n",
       "      <th>0</th>\n",
       "      <td>Joel Embiid</td>\n",
       "      <td>28</td>\n",
       "      <td>87.52</td>\n",
       "      <td>49.0</td>\n",
       "      <td>2.458056</td>\n",
       "    </tr>\n",
       "    <tr>\n",
       "      <th>1</th>\n",
       "      <td>Luka Dončić</td>\n",
       "      <td>23</td>\n",
       "      <td>85.44</td>\n",
       "      <td>34.0</td>\n",
       "      <td>2.174546</td>\n",
       "    </tr>\n",
       "    <tr>\n",
       "      <th>2</th>\n",
       "      <td>Damian Lillard</td>\n",
       "      <td>32</td>\n",
       "      <td>78.56</td>\n",
       "      <td>6.0</td>\n",
       "      <td>1.745539</td>\n",
       "    </tr>\n",
       "    <tr>\n",
       "      <th>3</th>\n",
       "      <td>Shai Gilgeous-Alexander</td>\n",
       "      <td>24</td>\n",
       "      <td>77.00</td>\n",
       "      <td>56.0</td>\n",
       "      <td>2.351686</td>\n",
       "    </tr>\n",
       "    <tr>\n",
       "      <th>4</th>\n",
       "      <td>Giannis Antetokounmpo</td>\n",
       "      <td>28</td>\n",
       "      <td>84.82</td>\n",
       "      <td>9.0</td>\n",
       "      <td>1.884632</td>\n",
       "    </tr>\n",
       "  </tbody>\n",
       "</table>\n",
       "</div>"
      ],
      "text/plain": [
       "                    PLAYER  AGE  Performance_Score  Rank_Gap  PS_per_Million\n",
       "0              Joel Embiid   28              87.52      49.0        2.458056\n",
       "1              Luka Dončić   23              85.44      34.0        2.174546\n",
       "2           Damian Lillard   32              78.56       6.0        1.745539\n",
       "3  Shai Gilgeous-Alexander   24              77.00      56.0        2.351686\n",
       "4    Giannis Antetokounmpo   28              84.82       9.0        1.884632"
      ]
     },
     "metadata": {},
     "output_type": "display_data"
    }
   ],
   "source": [
    "# ==============================================================================\n",
    "# Cell 4: Calculate Custom Strategic Metrics\n",
    "# ==============================================================================\n",
    "if df is not None:\n",
    "    print(\"Calculating custom metrics...\")\n",
    "\n",
    "    # Calculate Performance Score\n",
    "    df['Performance_Score'] = df['PER'] + df['PTS'] + df['AST'] + df['REB'] + df['BLK'] + (df['MP'] / 5)\n",
    "\n",
    "    # Calculate Salary and Performance Ranks\n",
    "    df['Salary_Rank'] = df['SALARY_ADJUSTED'].rank(ascending=False, method='min')\n",
    "    df['Performance_Rank'] = df['Performance_Score'].rank(ascending=False, method='min')\n",
    "\n",
    "    # Calculate Rank Gap\n",
    "    df['Rank_Gap'] = df['Salary_Rank'] - df['Performance_Rank']\n",
    "\n",
    "    # Calculate Performance Score per Million Dollars (PS/$M)\n",
    "    df['PS_per_Million'] = df.apply(\n",
    "        lambda row: row['Performance_Score'] / (row['SALARY_ADJUSTED'] / 1_000_000) if row['SALARY_ADJUSTED'] > 0 else 0,\n",
    "        axis=1\n",
    "    )\n",
    "\n",
    "    print(\"✅ DataFrame with custom metrics created successfully.\")\n",
    "\n",
    "    # --- Display Table 1: Custom Metrics Overview ---\n",
    "    print(\"\\n--- Custom Metrics Overview ---\")\n",
    "    display(df[['PLAYER', 'AGE', 'Performance_Score', 'Rank_Gap', 'PS_per_Million']].head())"
   ]
  },
  {
   "cell_type": "code",
   "execution_count": 5,
   "id": "d04a111a-ccd4-4ecf-9894-fbb75a6327bc",
   "metadata": {},
   "outputs": [
    {
     "name": "stdout",
     "output_type": "stream",
     "text": [
      "Generating visualization: Age vs. Performance Score...\n"
     ]
    },
    {
     "data": {
      "application/vnd.plotly.v1+json": {
       "config": {
        "plotlyServerURL": "https://plot.ly"
       },
       "data": [
        {
         "hovertemplate": "<b>%{hovertext}</b><br><br>Player Age=%{x}<br>Calculated Performance Score=%{y}<extra></extra>",
         "hovertext": [
          "Joel Embiid",
          "Luka Dončić",
          "Damian Lillard",
          "Shai Gilgeous-Alexander",
          "Giannis Antetokounmpo",
          "Jayson Tatum",
          "Stephen Curry",
          "Kevin Durant",
          "Kevin Durant",
          "Kevin Durant",
          "LeBron James",
          "Donovan Mitchell",
          "Devin Booker",
          "Kyrie Irving",
          "Kyrie Irving",
          "Kyrie Irving",
          "Jaylen Brown",
          "Ja Morant",
          "Trae Young",
          "Zion Williamson",
          "Anthony Davis",
          "Lauri Markkanen",
          "Julius Randle",
          "De'Aaron Fox",
          "Zach LaVine",
          "Brandon Ingram",
          "Anthony Edwards",
          "DeMar DeRozan",
          "Nikola Jokić",
          "Pascal Siakam",
          "Jalen Brunson",
          "Paul George",
          "Kawhi Leonard",
          "LaMelo Ball",
          "Bradley Beal",
          "Kristaps Porziņģis",
          "Jimmy Butler",
          "Jalen Green",
          "Keldon Johnson",
          "Klay Thompson",
          "Bojan Bogdanović",
          "Darius Garland",
          "Desmond Bane",
          "Kyle Kuzma",
          "Terry Rozier",
          "Anfernee Simons",
          "James Harden",
          "CJ McCollum",
          "Jordan Clarkson",
          "Karl-Anthony Towns",
          "Tyrese Haliburton",
          "Jerami Grant",
          "Dejounte Murray",
          "Bam Adebayo",
          "Jordan Poole",
          "Tyrese Maxey",
          "Kelly Oubre Jr.",
          "Mikal Bridges",
          "Mikal Bridges",
          "Mikal Bridges",
          "Tyler Herro",
          "Paolo Banchero",
          "Louis King",
          "Jamal Murray",
          "Cade Cunningham",
          "RJ Barrett",
          "Jrue Holiday",
          "Fred VanVleet",
          "Kevin Porter Jr.",
          "Domantas Sabonis",
          "Jaren Jackson Jr.",
          "Franz Wagner",
          "Devin Vassell",
          "Deandre Ayton",
          "Myles Turner",
          "D'Angelo Russell",
          "D'Angelo Russell",
          "D'Angelo Russell",
          "Nikola Vučević",
          "Michael Porter Jr.",
          "Gary Trent Jr.",
          "Spencer Dinwiddie",
          "Spencer Dinwiddie",
          "Spencer Dinwiddie",
          "Andrew Wiggins",
          "Norman Powell",
          "OG Anunoby",
          "Buddy Hield",
          "Bennedict Mathurin",
          "Josh Giddey",
          "Christian Wood",
          "Aaron Gordon",
          "Jaden Ivey",
          "Evan Mobley",
          "RaiQuan Gray",
          "Brook Lopez",
          "Russell Westbrook",
          "Russell Westbrook",
          "Russell Westbrook",
          "P.J. Washington",
          "Cameron Johnson",
          "Cameron Johnson",
          "Cameron Johnson",
          "De'Andre Hunter",
          "Scottie Barnes",
          "Skylar Mays",
          "Wendell Carter Jr.",
          "Kevin Huerter",
          "Khris Middleton",
          "Harrison Barnes",
          "Malcolm Brogdon",
          "Immanuel Quickley",
          "Alperen Şengün",
          "Tobias Harris",
          "Gordon Hayward",
          "Trey Murphy III",
          "Tim Hardaway Jr.",
          "Jarrett Allen",
          "Dillon Brooks",
          "Collin Sexton",
          "Bobby Portis",
          "Jonas Valančiūnas",
          "Jalen Williams",
          "Bogdan Bogdanović",
          "Markelle Fultz",
          "Chris Paul",
          "Saddiq Bey",
          "Saddiq Bey",
          "Saddiq Bey",
          "Luguentz Dort",
          "Malik Monk",
          "Rudy Gobert",
          "Jusuf Nurkić",
          "Kris Dunn",
          "John Collins",
          "Cole Anthony",
          "Austin Reaves",
          "Tre Jones",
          "Alec Burks",
          "Jabari Smith Jr.",
          "Malik Beasley",
          "Malik Beasley",
          "Malik Beasley",
          "KJ Martin",
          "Nic Claxton",
          "Dennis Schröder",
          "Jakob Poeltl",
          "Jakob Poeltl",
          "Jakob Poeltl",
          "Mac McClung",
          "Kelly Olynyk",
          "Eric Gordon",
          "Eric Gordon",
          "Eric Gordon",
          "Derrick White",
          "Keegan Murray",
          "Caris LeVert",
          "Jaden McDaniels",
          "Marvin Bagley III",
          "Clint Capela",
          "Mike Conley",
          "Mike Conley",
          "Mike Conley",
          "Bones Hyland",
          "Bones Hyland",
          "Bones Hyland",
          "Lonnie Walker IV",
          "Zach Collins",
          "Bruce Brown",
          "Naz Reid",
          "Marcus Smart",
          "Max Strus",
          "John Wall",
          "Quentin Grimes",
          "Isaiah Stewart",
          "Rui Hachimura",
          "Rui Hachimura",
          "Rui Hachimura",
          "Kyle Lowry",
          "Marcus Morris",
          "Corey Kispert",
          "Jeremy Sochan",
          "Mason Plumlee",
          "Mason Plumlee",
          "Mason Plumlee",
          "Kentavious Caldwell-Pope",
          "Jaylen Nowell",
          "Ivica Zubac",
          "Talen Horton-Tucker",
          "Victor Oladipo",
          "Cam Thomas",
          "Jeenathan Williams",
          "Moritz Wagner",
          "Grayson Allen",
          "Killian Hayes",
          "Tyus Jones",
          "Monte Morris",
          "Cameron Payne",
          "Reggie Jackson",
          "Reggie Jackson",
          "Reggie Jackson",
          "Malaki Branham",
          "Doug McDermott",
          "Patrick Williams",
          "Josh Richardson",
          "Josh Richardson",
          "Josh Richardson",
          "De'Anthony Melton",
          "Aaron Nesmith",
          "James Wiseman",
          "James Wiseman",
          "James Wiseman",
          "Brandon Clarke",
          "Jonathan Kuminga",
          "Onyeka Okongwu",
          "Luka Šamanić",
          "Shaedon Sharpe",
          "Jalen Suggs",
          "Thomas Bryant",
          "Thomas Bryant",
          "Thomas Bryant",
          "Josh Hart",
          "Josh Hart",
          "Josh Hart",
          "Al Horford",
          "Herbert Jones",
          "Julian Champagnie",
          "Julian Champagnie",
          "Julian Champagnie",
          "Cam Reddish",
          "Cam Reddish",
          "Cam Reddish",
          "Keita Bates-Diop",
          "Coby White",
          "Caleb Martin",
          "Isaiah Joe",
          "Andrew Nembhard",
          "Jalen McDaniels",
          "Jalen McDaniels",
          "Jalen McDaniels",
          "Kyle Anderson",
          "Chris Boucher",
          "Donte DiVincenzo",
          "Jalen Smith",
          "Gabe Vincent",
          "Luke Kennard",
          "Luke Kennard",
          "Luke Kennard",
          "Hamidou Diallo",
          "Tari Eason",
          "Precious Achiuwa",
          "Deni Avdija",
          "Seth Curry",
          "Walker Kessler",
          "Bol Bol",
          "Jalen Duren",
          "Josh Green",
          "Naji Marshall",
          "Taurean Prince",
          "Jae'Sean Tate",
          "Santi Aldama",
          "Jose Alvarado",
          "Daniel Gafford",
          "Mark Williams",
          "AJ Griffin",
          "Jaden Hardy",
          "Shaquille Harrison",
          "Terance Mann",
          "Royce O'Neale",
          "Dennis Smith Jr.",
          "Jordan Nwora",
          "Jordan Nwora",
          "Jordan Nwora",
          "T.J. McConnell",
          "Cedi Osman",
          "Landry Shamet",
          "Steven Adams",
          "Ayo Dosunmu",
          "Draymond Green",
          "Shake Milton",
          "Dorian Finney-Smith",
          "Dorian Finney-Smith",
          "Dorian Finney-Smith",
          "Terrence Ross",
          "Terrence Ross",
          "Terrence Ross",
          "Gary Harris",
          "Kevin Love",
          "Kevin Love",
          "Kevin Love",
          "Damion Lee",
          "Georges Niang",
          "Nick Richards",
          "Aleksej Pokusevski",
          "Grant Williams",
          "Jevon Carter",
          "Kemba Walker",
          "Kenrich Williams",
          "Robert Williams",
          "Gabe York",
          "Jarred Vanderbilt",
          "Jarred Vanderbilt",
          "Jarred Vanderbilt",
          "Ochai Agbaji",
          "Chris Duarte",
          "Duane Washington Jr.",
          "Jeff Green",
          "Tre Mann",
          "Pat Connaughton",
          "Joe Harris",
          "Trey Lyles",
          "T.J. Warren",
          "T.J. Warren",
          "T.J. Warren",
          "Devonte' Graham",
          "Devonte' Graham",
          "Devonte' Graham",
          "Torrey Craig",
          "Mitchell Robinson",
          "Obi Toppin",
          "Trendon Watford",
          "Delon Wright",
          "Jay Huff",
          "Josh Okogie",
          "Reggie Bullock",
          "Isaiah Jackson",
          "Kendrick Nunn",
          "Kendrick Nunn",
          "Kendrick Nunn",
          "Troy Brown Jr.",
          "Edmond Sumner",
          "Lindell Wigginton",
          "Eugene Omoruyi",
          "Eugene Omoruyi",
          "Eugene Omoruyi",
          "Chance Comanche",
          "Kevon Looney",
          "Joshua Primo",
          "Daniel Theis",
          "Xavier Tillman Sr.",
          "Svi Mykhailiuk",
          "Svi Mykhailiuk",
          "Svi Mykhailiuk",
          "Jae Crowder",
          "Willy Hernangómez",
          "Joe Ingles",
          "Ty Jerome",
          "Cory Joseph",
          "Romeo Langford",
          "Ben Simmons",
          "Will Barton",
          "Will Barton",
          "Will Barton",
          "Larry Nance Jr.",
          "Jeremiah Robinson-Earl",
          "Aaron Wiggins",
          "Justise Winslow",
          "Terence Davis",
          "Anthony Lamb",
          "Isaiah Livers",
          "Théo Maledon",
          "Dwight Powell",
          "David Roddy",
          "Kevin Knox",
          "Kevin Knox",
          "Kevin Knox",
          "Mo Bamba",
          "Mo Bamba",
          "Mo Bamba",
          "Drew Eubanks",
          "Jordan Goodwin",
          "Jock Landale",
          "Nassir Little",
          "Brandon Boston Jr.",
          "Luka Garza",
          "Jay Scrubb",
          "Cody Zeller",
          "Dario Šarić",
          "Dario Šarić",
          "Dario Šarić",
          "R.J. Hampton",
          "R.J. Hampton",
          "R.J. Hampton",
          "JaMychal Green",
          "Sam Hauser",
          "Isaac Okoro",
          "Duncan Robinson",
          "Goran Dragić",
          "Goran Dragić",
          "Goran Dragić",
          "Simone Fontecchio",
          "Patrick Beverley",
          "Patrick Beverley",
          "Patrick Beverley",
          "Nickeil Alexander-Walker",
          "Nickeil Alexander-Walker",
          "Nickeil Alexander-Walker",
          "Jared Butler",
          "Quenton Jackson",
          "Patty Mills",
          "Sandro Mamukelashvili",
          "Sandro Mamukelashvili",
          "Sandro Mamukelashvili",
          "Mike Muscala",
          "Mike Muscala",
          "Mike Muscala",
          "Nicolas Batum",
          "Oshae Brissett",
          "Evan Fournier",
          "Saben Lee",
          "Saben Lee",
          "Saben Lee",
          "Robert Covington",
          "Andre Drummond",
          "Maxi Kleber",
          "Jaylin Williams",
          "Josh Christopher",
          "Johnny Davis",
          "Stanley Johnson",
          "Charles Bassey",
          "Rodney McGruder",
          "Ziaire Williams",
          "James Bouknight",
          "Alex Caruso",
          "Montrezl Harrell",
          "Jalen Johnson",
          "Davion Mitchell",
          "Payton Pritchard",
          "Derrick Rose",
          "Yuta Watanabe",
          "Danny Green",
          "Danny Green",
          "Danny Green",
          "Jarrell Brantley",
          "Wenyen Gabriel",
          "Nikola Jović",
          "Otto Porter Jr.",
          "Jamal Cain",
          "Bryce McGowens",
          "Lamar Stevens",
          "Dewayne Dedmon",
          "Dewayne Dedmon",
          "Dewayne Dedmon",
          "Darius Bazley",
          "Darius Bazley",
          "Darius Bazley",
          "Rudy Gay",
          "Javonte Green",
          "Zeke Nnaji",
          "Ricky Rubio",
          "Lindy Waters III",
          "MarJon Beauchamp",
          "DeAndre Jordan",
          "John Konchar",
          "George Hill",
          "George Hill",
          "George Hill",
          "Vlatko Čančar",
          "Isaiah Hartenstein",
          "Jaxson Hayes",
          "Jonathan Isaac",
          "Derrick Jones Jr.",
          "Kenneth Lofton Jr.",
          "Cody Martin",
          "Sam Merrill",
          "Blake Wesley",
          "Ousmane Dieng",
          "Chimezie Metu",
          "Austin Rivers",
          "Danuel House Jr.",
          "Johnny Juzang",
          "Meyers Leonard",
          "Garrison Mathews",
          "Garrison Mathews",
          "Garrison Mathews",
          "Moses Moody",
          "Christian Braun",
          "Keon Johnson",
          "Chuma Okeke",
          "Day'Ron Sharpe",
          "Dean Wade",
          "TyTy Washington Jr.",
          "Gary Payton II",
          "Gary Payton II",
          "Gary Payton II",
          "Dalano Banton",
          "Dāvis Bertāns",
          "Malachi Flynn",
          "Kira Lewis Jr.",
          "Justin Holiday",
          "Justin Holiday",
          "Justin Holiday",
          "Goga Bitadze",
          "Goga Bitadze",
          "Goga Bitadze",
          "Jarrett Culver",
          "A.J. Green",
          "Haywood Highsmith",
          "JaVale McGee",
          "Thaddeus Young",
          "Omer Yurtseven",
          "Moses Brown",
          "Moses Brown",
          "Moses Brown",
          "Bismack Biyombo",
          "Michael Carter-Williams",
          "Justin Minaya",
          "Xavier Sneed",
          "Paul Reed",
          "Admiral Schofield",
          "Ish Wainright",
          "McKinley Wright IV",
          "Matisse Thybulle",
          "Matisse Thybulle",
          "Matisse Thybulle",
          "Blake Griffin",
          "Kevon Harris",
          "Serge Ibaka",
          "Isaiah Roby",
          "Daishen Nix",
          "Olivier Sarr",
          "Bruno Fernando",
          "Bruno Fernando",
          "Bruno Fernando",
          "Patrick Baldwin Jr.",
          "Dominick Barlow",
          "Gorgui Dieng",
          "Udonis Haslem",
          "Aaron Holiday",
          "Jabari Walker",
          "Markieff Morris",
          "Markieff Morris",
          "Markieff Morris",
          "Xavier Cooks",
          "Dyson Daniels",
          "Darius Days",
          "Caleb Houstan",
          "Furkan Korkmaz",
          "Luke Kornet",
          "JT Thor",
          "A.J. Lawson",
          "A.J. Lawson",
          "A.J. Lawson",
          "David Duke Jr.",
          "Nathan Knight",
          "Jordan McLaughlin",
          "Orlando Robinson",
          "Matt Ryan",
          "Matt Ryan",
          "Matt Ryan",
          "Bryn Forbes",
          "Damian Jones",
          "Damian Jones",
          "Damian Jones",
          "Udoka Azubuike",
          "Miles McBride",
          "P.J. Tucker",
          "Amir Coffey",
          "Taj Gibson",
          "Kai Jones",
          "Wesley Matthews",
          "Micah Potter",
          "Jericho Sims",
          "Anthony Gill",
          "Boban Marjanović",
          "Raul Neto",
          "Peyton Watson",
          "Jared Rhoden",
          "Max Christie",
          "Jordan Hall",
          "Richaun Holmes",
          "Christian Koloko",
          "Josh Minott",
          "Jamaree Bouyea",
          "Jamaree Bouyea",
          "Jamaree Bouyea",
          "Juan Toscano-Anderson",
          "Juan Toscano-Anderson",
          "Juan Toscano-Anderson",
          "Tyler Dorsey",
          "Usman Garuba",
          "Jacob Gilyard",
          "Jake LaRavia",
          "Robin Lopez",
          "Trevelin Queen",
          "Terry Taylor",
          "Terry Taylor",
          "Terry Taylor",
          "Dru Smith",
          "Dru Smith",
          "Dru Smith",
          "Juancho Hernangómez",
          "Carlik Jones",
          "Frank Ntilikina",
          "Jason Preston",
          "Kessler Edwards",
          "Kessler Edwards",
          "Kessler Edwards",
          "James Johnson",
          "Moussa Diabaté",
          "Mamadi Diakite",
          "Isaiah Mobley",
          "Jaden Springer",
          "Frank Kaminsky",
          "Frank Kaminsky",
          "Frank Kaminsky",
          "Lester Quiñones",
          "Ish Smith",
          "John Butler",
          "Jeff Dowtin",
          "Theo Pinson",
          "Neemias Queta",
          "Trent Forrest",
          "Scotty Pippen Jr.",
          "Justin Champagnie",
          "Justin Champagnie",
          "Justin Champagnie",
          "Khem Birch",
          "Kennedy Chandler",
          "Ron Harper Jr.",
          "Dalen Terry",
          "Nerlens Noel",
          "Nerlens Noel",
          "Nerlens Noel",
          "Davon Reed",
          "Davon Reed",
          "Davon Reed",
          "Andre Iguodala",
          "Chris Silva",
          "Garrett Temple",
          "Stanley Umude",
          "Donovan Williams",
          "Vince Williams Jr.",
          "Ryan Rollins",
          "Greg Brown III",
          "Trevor Hudgins",
          "Alize Johnson",
          "Xavier Moon",
          "Alex Len",
          "Dylan Windler",
          "Buddy Boeheim",
          "Tony Bradley",
          "JD Davison",
          "Kendall Brown",
          "Matthew Dellavedova",
          "Keon Ellis",
          "Mfiondu Kabengele",
          "Jordan Schakel",
          "Isaiah Todd",
          "Thanasis Antetokounmpo",
          "PJ Dozier",
          "Wendell Moore Jr.",
          "Ryan Arcidiacono",
          "Ryan Arcidiacono",
          "Ryan Arcidiacono",
          "Facundo Campazzo",
          "Braxton Key",
          "Tyrese Martin",
          "KZ Okpala",
          "Cole Swider",
          "Vit Krejci",
          "Jack White",
          "Noah Vonleh",
          "Malcolm Hill",
          "Trevor Keels",
          "Chima Moneke",
          "Kobi Simmons",
          "Joe Wieskamp",
          "Justin Jackson",
          "Marko Simonovic",
          "Dereon Seabron",
          "Vernon Carey Jr.",
          "Devon Dotson",
          "Leandro Bolmaro",
          "Sterling Brown",
          "Deonte Burton",
          "Michael Foster Jr.",
          "Frank Jackson",
          "Alondes Williams",
          "Kawhi Leonard",
          "Devin Booker",
          "Anthony Edwards",
          "Stephen Curry",
          "Nikola Jokić",
          "Trae Young",
          "Kevin Durant",
          "Jalen Brunson",
          "De'Aaron Fox",
          "Jayson Tatum",
          "Jimmy Butler",
          "Jamal Murray",
          "Ja Morant",
          "LeBron James",
          "Khris Middleton",
          "Joel Embiid",
          "Russell Westbrook",
          "Desmond Bane",
          "Mikal Bridges",
          "Giannis Antetokounmpo",
          "Donovan Mitchell",
          "Dejounte Murray",
          "Jaylen Brown",
          "Anthony Davis",
          "Norman Powell",
          "Darius Garland",
          "Tyrese Maxey",
          "James Harden",
          "RJ Barrett",
          "Brook Lopez",
          "Malik Monk",
          "Cameron Johnson",
          "Klay Thompson",
          "Karl-Anthony Towns",
          "Jaren Jackson Jr.",
          "Bam Adebayo",
          "Jrue Holiday",
          "Austin Reaves",
          "De'Andre Hunter",
          "Andrew Wiggins",
          "Julius Randle",
          "Spencer Dinwiddie",
          "Domantas Sabonis",
          "Tobias Harris",
          "Rudy Gobert",
          "Caris LeVert",
          "Marcus Smart",
          "Deandre Ayton",
          "Michael Porter Jr.",
          "Derrick White",
          "Bogdan Bogdanović",
          "Aaron Gordon",
          "D'Angelo Russell",
          "Caleb Martin",
          "Gabe Vincent",
          "Chris Paul",
          "Rui Hachimura",
          "Bruce Brown",
          "Mike Conley",
          "Pat Connaughton",
          "Tyler Herro",
          "Malcolm Brogdon",
          "Grayson Allen",
          "Victor Oladipo",
          "John Collins",
          "Harrison Barnes",
          "Kentavious Caldwell-Pope",
          "Terance Mann",
          "Dillon Brooks",
          "Nic Claxton",
          "Josh Hart",
          "Jordan Poole",
          "Eric Gordon",
          "Evan Mobley",
          "Keegan Murray",
          "Bobby Portis",
          "Jarrett Allen",
          "Draymond Green",
          "Max Strus",
          "Kyle Lowry",
          "Ivica Zubac",
          "Kevin Huerter",
          "Immanuel Quickley",
          "Duncan Robinson",
          "Marcus Morris",
          "Xavier Tillman Sr.",
          "Bones Hyland",
          "Kyle Anderson",
          "Nickeil Alexander-Walker",
          "Clint Capela",
          "Seth Curry",
          "Mason Plumlee",
          "Cameron Payne",
          "De'Anthony Melton",
          "Taurean Prince",
          "Robert Williams",
          "Saddiq Bey",
          "Dennis Schröder",
          "Luke Kennard",
          "Davion Mitchell",
          "Obi Toppin",
          "Kevin Love",
          "Joe Ingles",
          "Gary Payton II",
          "Al Horford",
          "Trey Lyles",
          "Santi Aldama",
          "Torrey Craig",
          "Kevon Looney",
          "Mitchell Robinson",
          "Isaac Okoro",
          "Dorian Finney-Smith",
          "Lonnie Walker IV",
          "Jock Landale",
          "Terence Davis",
          "Wesley Matthews",
          "Onyeka Okongwu",
          "Cedi Osman",
          "Moses Moody",
          "Donte DiVincenzo",
          "Quentin Grimes",
          "Grant Williams",
          "Royce O'Neale",
          "P.J. Tucker",
          "Landry Shamet",
          "Paul Reed",
          "Jarred Vanderbilt",
          "Tyus Jones",
          "Nicolas Batum",
          "Georges Niang",
          "Jalen Johnson",
          "Jeff Green",
          "Josh Okogie",
          "Robin Lopez",
          "David Roddy",
          "Terrence Ross",
          "Bismack Biyombo",
          "Jonathan Kuminga",
          "JaMychal Green",
          "Haywood Highsmith",
          "Christian Braun",
          "Jaylen Nowell",
          "Payton Pritchard",
          "Isaiah Hartenstein",
          "Malik Beasley",
          "Day'Ron Sharpe",
          "Cam Thomas",
          "Yuta Watanabe",
          "Danuel House Jr.",
          "PJ Dozier",
          "Alex Len",
          "T.J. Warren",
          "MarJon Beauchamp",
          "Austin Rivers",
          "Lamar Stevens",
          "Jalen McDaniels",
          "Jaden Springer",
          "Cody Zeller",
          "Luke Kornet",
          "Damion Lee",
          "Goran Dragić",
          "David Duke Jr.",
          "Sam Hauser",
          "Troy Brown Jr.",
          "Jae Crowder",
          "Joe Harris",
          "Kenneth Lofton Jr.",
          "Tristan Thompson",
          "Mike Muscala",
          "Max Christie",
          "Jevon Carter",
          "Shaquille Harrison",
          "DeAndre Jordan",
          "Shake Milton",
          "Ziaire Williams",
          "Wenyen Gabriel",
          "Nathan Knight",
          "Zeke Nnaji",
          "Dean Wade",
          "Peyton Watson",
          "Danny Green",
          "John Konchar",
          "Anthony Lamb",
          "Furkan Korkmaz",
          "Chimezie Metu",
          "Justin Champagnie",
          "Reggie Jackson",
          "Raul Neto",
          "Ish Smith",
          "Ish Wainright",
          "Omer Yurtseven",
          "Miles McBride",
          "Nikola Jović",
          "Thanasis Antetokounmpo",
          "Patrick Baldwin Jr.",
          "Mo Bamba",
          "Brandon Boston Jr.",
          "Thomas Bryant",
          "Vlatko Čančar",
          "Amir Coffey",
          "Robert Covington",
          "Dewayne Dedmon",
          "Kessler Edwards",
          "Blake Griffin",
          "Montrezl Harrell",
          "Udonis Haslem",
          "Aaron Holiday",
          "DaQuan Jeffries",
          "Meyers Leonard",
          "Jordan McLaughlin",
          "Patty Mills",
          "Josh Minott",
          "Wendell Moore Jr.",
          "Jason Preston",
          "Derrick Rose",
          "Ricky Rubio",
          "Edmond Sumner"
         ],
         "legendgroup": "",
         "marker": {
          "color": "#636efa",
          "symbol": "circle"
         },
         "mode": "markers",
         "name": "",
         "orientation": "v",
         "showlegend": false,
         "type": "scatter",
         "x": {
          "bdata": "HBcgGBwYIiIiIiYaGh4eHhoXGBYdGRwZGxkVIRscGiAfFR0bIRQXICEXGBscFyEfHhsWHBoZFxYbGhoaFxQXGRUWIBwWGhcVFhgaGhoaIBgYHR0dGx0ZHhQUGxsUFRciIiIiGBoaGhkVGRcYHx4eFxQeIBYeGBsYGx4VHhglFxcXFxgeHBwZFhgXHxMaGhoWFx0bGxsYHyIiIhwWHBYXHCMjIxYWFhgZGhccGiAWFRgYGCQhFxMgICAdFxkWHhUXGRsVGhscICAgEx8VHR0dGBcVFRUaFBYXExUZGRkbGxskGBUVFRcXFxsWGxcXGRkZHR4aFhoaGhoYFRcWIBUXExYZHBsWGBgVExQdGh0ZGBgYHhsZHRcgGh0dHR8fHxwiIiIeHRkVGBsgHBkdFxcXFhkWJBUeHxsdHR0bGxsgGBgWHhgYHxUbGxsXGxgZGRkaGhQeGBkZGSAcIxkfFxogICAeFhgaGRkYFR8VFxcXGBgYGRgbFhUYFh4cHBwVFRUgGRYcJCQkGyIiIhgYGBYYIhcXFx8fHyIYHhcXFyAdHxQVFBoWHxUWHB0VGBkiHCMjIxoZEx0XFBkhISEWFhYkHRYgGRYiGiQkJBkYFhkZFBsaExMZHh0VHhoaGhQVFBgVGhUeHh4XHhgVISEhFxcXFxcaIyIYFxcXHh8XGRcZHBgZGRkhGSEYFBcYGBgUEyEqGhQhISEbExcUGRsUFhYWFxkaFhkZGR0bGxsXFiUZJRYkGBgeIh4UFxMVHRYUFxcXHR0dGhQYFSIZFxcXGRkZGxkYFxYWFiMVGhcUHR0dFiIUGRsXGBYVFRUeFBYUHBwcGxsbJxokFxUWFBUXGhwdGhcZFBMgFxkYFR4aFRwcHB8ZFxcXFhkbGxMbGRcbFxYVFxYbHRQYFx8aFSIbGCIaGRghGRcmHxwiGBocGhoaHR0XFiEWIhgaIBsXGSAYGRscHRoeHhwcGBgcHhsaGxolGBojHhceGx4ZHh0aGxcbFyIVFhsYIBokGRgXHCEYFh0YHCAgHBgcGRcdGhgYIiMeJBsWIBoYFh0YGxkkFhsUGhYYHSUZFxcaIh0VJBgiFR8eFCAaFRcZGBoVFRwdGh0dFh4ZGRQeGx4kFxkXIB8UHx8TGx0iGhUZGRYaFCMaGRkZFSAeIhwYFhMeFBgVGRkZICEWIR0qGhkeGiIUFRciIBs=",
          "dtype": "i1"
         },
         "xaxis": "x",
         "y": {
          "bdata": "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",
          "dtype": "f8"
         },
         "yaxis": "y"
        }
       ],
       "layout": {
        "legend": {
         "tracegroupgap": 0
        },
        "template": {
         "data": {
          "bar": [
           {
            "error_x": {
             "color": "#2a3f5f"
            },
            "error_y": {
             "color": "#2a3f5f"
            },
            "marker": {
             "line": {
              "color": "white",
              "width": 0.5
             },
             "pattern": {
              "fillmode": "overlay",
              "size": 10,
              "solidity": 0.2
             }
            },
            "type": "bar"
           }
          ],
          "barpolar": [
           {
            "marker": {
             "line": {
              "color": "white",
              "width": 0.5
             },
             "pattern": {
              "fillmode": "overlay",
              "size": 10,
              "solidity": 0.2
             }
            },
            "type": "barpolar"
           }
          ],
          "carpet": [
           {
            "aaxis": {
             "endlinecolor": "#2a3f5f",
             "gridcolor": "#C8D4E3",
             "linecolor": "#C8D4E3",
             "minorgridcolor": "#C8D4E3",
             "startlinecolor": "#2a3f5f"
            },
            "baxis": {
             "endlinecolor": "#2a3f5f",
             "gridcolor": "#C8D4E3",
             "linecolor": "#C8D4E3",
             "minorgridcolor": "#C8D4E3",
             "startlinecolor": "#2a3f5f"
            },
            "type": "carpet"
           }
          ],
          "choropleth": [
           {
            "colorbar": {
             "outlinewidth": 0,
             "ticks": ""
            },
            "type": "choropleth"
           }
          ],
          "contour": [
           {
            "colorbar": {
             "outlinewidth": 0,
             "ticks": ""
            },
            "colorscale": [
             [
              0,
              "#0d0887"
             ],
             [
              0.1111111111111111,
              "#46039f"
             ],
             [
              0.2222222222222222,
              "#7201a8"
             ],
             [
              0.3333333333333333,
              "#9c179e"
             ],
             [
              0.4444444444444444,
              "#bd3786"
             ],
             [
              0.5555555555555556,
              "#d8576b"
             ],
             [
              0.6666666666666666,
              "#ed7953"
             ],
             [
              0.7777777777777778,
              "#fb9f3a"
             ],
             [
              0.8888888888888888,
              "#fdca26"
             ],
             [
              1,
              "#f0f921"
             ]
            ],
            "type": "contour"
           }
          ],
          "contourcarpet": [
           {
            "colorbar": {
             "outlinewidth": 0,
             "ticks": ""
            },
            "type": "contourcarpet"
           }
          ],
          "heatmap": [
           {
            "colorbar": {
             "outlinewidth": 0,
             "ticks": ""
            },
            "colorscale": [
             [
              0,
              "#0d0887"
             ],
             [
              0.1111111111111111,
              "#46039f"
             ],
             [
              0.2222222222222222,
              "#7201a8"
             ],
             [
              0.3333333333333333,
              "#9c179e"
             ],
             [
              0.4444444444444444,
              "#bd3786"
             ],
             [
              0.5555555555555556,
              "#d8576b"
             ],
             [
              0.6666666666666666,
              "#ed7953"
             ],
             [
              0.7777777777777778,
              "#fb9f3a"
             ],
             [
              0.8888888888888888,
              "#fdca26"
             ],
             [
              1,
              "#f0f921"
             ]
            ],
            "type": "heatmap"
           }
          ],
          "histogram": [
           {
            "marker": {
             "pattern": {
              "fillmode": "overlay",
              "size": 10,
              "solidity": 0.2
             }
            },
            "type": "histogram"
           }
          ],
          "histogram2d": [
           {
            "colorbar": {
             "outlinewidth": 0,
             "ticks": ""
            },
            "colorscale": [
             [
              0,
              "#0d0887"
             ],
             [
              0.1111111111111111,
              "#46039f"
             ],
             [
              0.2222222222222222,
              "#7201a8"
             ],
             [
              0.3333333333333333,
              "#9c179e"
             ],
             [
              0.4444444444444444,
              "#bd3786"
             ],
             [
              0.5555555555555556,
              "#d8576b"
             ],
             [
              0.6666666666666666,
              "#ed7953"
             ],
             [
              0.7777777777777778,
              "#fb9f3a"
             ],
             [
              0.8888888888888888,
              "#fdca26"
             ],
             [
              1,
              "#f0f921"
             ]
            ],
            "type": "histogram2d"
           }
          ],
          "histogram2dcontour": [
           {
            "colorbar": {
             "outlinewidth": 0,
             "ticks": ""
            },
            "colorscale": [
             [
              0,
              "#0d0887"
             ],
             [
              0.1111111111111111,
              "#46039f"
             ],
             [
              0.2222222222222222,
              "#7201a8"
             ],
             [
              0.3333333333333333,
              "#9c179e"
             ],
             [
              0.4444444444444444,
              "#bd3786"
             ],
             [
              0.5555555555555556,
              "#d8576b"
             ],
             [
              0.6666666666666666,
              "#ed7953"
             ],
             [
              0.7777777777777778,
              "#fb9f3a"
             ],
             [
              0.8888888888888888,
              "#fdca26"
             ],
             [
              1,
              "#f0f921"
             ]
            ],
            "type": "histogram2dcontour"
           }
          ],
          "mesh3d": [
           {
            "colorbar": {
             "outlinewidth": 0,
             "ticks": ""
            },
            "type": "mesh3d"
           }
          ],
          "parcoords": [
           {
            "line": {
             "colorbar": {
              "outlinewidth": 0,
              "ticks": ""
             }
            },
            "type": "parcoords"
           }
          ],
          "pie": [
           {
            "automargin": true,
            "type": "pie"
           }
          ],
          "scatter": [
           {
            "fillpattern": {
             "fillmode": "overlay",
             "size": 10,
             "solidity": 0.2
            },
            "type": "scatter"
           }
          ],
          "scatter3d": [
           {
            "line": {
             "colorbar": {
              "outlinewidth": 0,
              "ticks": ""
             }
            },
            "marker": {
             "colorbar": {
              "outlinewidth": 0,
              "ticks": ""
             }
            },
            "type": "scatter3d"
           }
          ],
          "scattercarpet": [
           {
            "marker": {
             "colorbar": {
              "outlinewidth": 0,
              "ticks": ""
             }
            },
            "type": "scattercarpet"
           }
          ],
          "scattergeo": [
           {
            "marker": {
             "colorbar": {
              "outlinewidth": 0,
              "ticks": ""
             }
            },
            "type": "scattergeo"
           }
          ],
          "scattergl": [
           {
            "marker": {
             "colorbar": {
              "outlinewidth": 0,
              "ticks": ""
             }
            },
            "type": "scattergl"
           }
          ],
          "scattermap": [
           {
            "marker": {
             "colorbar": {
              "outlinewidth": 0,
              "ticks": ""
             }
            },
            "type": "scattermap"
           }
          ],
          "scattermapbox": [
           {
            "marker": {
             "colorbar": {
              "outlinewidth": 0,
              "ticks": ""
             }
            },
            "type": "scattermapbox"
           }
          ],
          "scatterpolar": [
           {
            "marker": {
             "colorbar": {
              "outlinewidth": 0,
              "ticks": ""
             }
            },
            "type": "scatterpolar"
           }
          ],
          "scatterpolargl": [
           {
            "marker": {
             "colorbar": {
              "outlinewidth": 0,
              "ticks": ""
             }
            },
            "type": "scatterpolargl"
           }
          ],
          "scatterternary": [
           {
            "marker": {
             "colorbar": {
              "outlinewidth": 0,
              "ticks": ""
             }
            },
            "type": "scatterternary"
           }
          ],
          "surface": [
           {
            "colorbar": {
             "outlinewidth": 0,
             "ticks": ""
            },
            "colorscale": [
             [
              0,
              "#0d0887"
             ],
             [
              0.1111111111111111,
              "#46039f"
             ],
             [
              0.2222222222222222,
              "#7201a8"
             ],
             [
              0.3333333333333333,
              "#9c179e"
             ],
             [
              0.4444444444444444,
              "#bd3786"
             ],
             [
              0.5555555555555556,
              "#d8576b"
             ],
             [
              0.6666666666666666,
              "#ed7953"
             ],
             [
              0.7777777777777778,
              "#fb9f3a"
             ],
             [
              0.8888888888888888,
              "#fdca26"
             ],
             [
              1,
              "#f0f921"
             ]
            ],
            "type": "surface"
           }
          ],
          "table": [
           {
            "cells": {
             "fill": {
              "color": "#EBF0F8"
             },
             "line": {
              "color": "white"
             }
            },
            "header": {
             "fill": {
              "color": "#C8D4E3"
             },
             "line": {
              "color": "white"
             }
            },
            "type": "table"
           }
          ]
         },
         "layout": {
          "annotationdefaults": {
           "arrowcolor": "#2a3f5f",
           "arrowhead": 0,
           "arrowwidth": 1
          },
          "autotypenumbers": "strict",
          "coloraxis": {
           "colorbar": {
            "outlinewidth": 0,
            "ticks": ""
           }
          },
          "colorscale": {
           "diverging": [
            [
             0,
             "#8e0152"
            ],
            [
             0.1,
             "#c51b7d"
            ],
            [
             0.2,
             "#de77ae"
            ],
            [
             0.3,
             "#f1b6da"
            ],
            [
             0.4,
             "#fde0ef"
            ],
            [
             0.5,
             "#f7f7f7"
            ],
            [
             0.6,
             "#e6f5d0"
            ],
            [
             0.7,
             "#b8e186"
            ],
            [
             0.8,
             "#7fbc41"
            ],
            [
             0.9,
             "#4d9221"
            ],
            [
             1,
             "#276419"
            ]
           ],
           "sequential": [
            [
             0,
             "#0d0887"
            ],
            [
             0.1111111111111111,
             "#46039f"
            ],
            [
             0.2222222222222222,
             "#7201a8"
            ],
            [
             0.3333333333333333,
             "#9c179e"
            ],
            [
             0.4444444444444444,
             "#bd3786"
            ],
            [
             0.5555555555555556,
             "#d8576b"
            ],
            [
             0.6666666666666666,
             "#ed7953"
            ],
            [
             0.7777777777777778,
             "#fb9f3a"
            ],
            [
             0.8888888888888888,
             "#fdca26"
            ],
            [
             1,
             "#f0f921"
            ]
           ],
           "sequentialminus": [
            [
             0,
             "#0d0887"
            ],
            [
             0.1111111111111111,
             "#46039f"
            ],
            [
             0.2222222222222222,
             "#7201a8"
            ],
            [
             0.3333333333333333,
             "#9c179e"
            ],
            [
             0.4444444444444444,
             "#bd3786"
            ],
            [
             0.5555555555555556,
             "#d8576b"
            ],
            [
             0.6666666666666666,
             "#ed7953"
            ],
            [
             0.7777777777777778,
             "#fb9f3a"
            ],
            [
             0.8888888888888888,
             "#fdca26"
            ],
            [
             1,
             "#f0f921"
            ]
           ]
          },
          "colorway": [
           "#636efa",
           "#EF553B",
           "#00cc96",
           "#ab63fa",
           "#FFA15A",
           "#19d3f3",
           "#FF6692",
           "#B6E880",
           "#FF97FF",
           "#FECB52"
          ],
          "font": {
           "color": "#2a3f5f"
          },
          "geo": {
           "bgcolor": "white",
           "lakecolor": "white",
           "landcolor": "white",
           "showlakes": true,
           "showland": true,
           "subunitcolor": "#C8D4E3"
          },
          "hoverlabel": {
           "align": "left"
          },
          "hovermode": "closest",
          "mapbox": {
           "style": "light"
          },
          "paper_bgcolor": "white",
          "plot_bgcolor": "white",
          "polar": {
           "angularaxis": {
            "gridcolor": "#EBF0F8",
            "linecolor": "#EBF0F8",
            "ticks": ""
           },
           "bgcolor": "white",
           "radialaxis": {
            "gridcolor": "#EBF0F8",
            "linecolor": "#EBF0F8",
            "ticks": ""
           }
          },
          "scene": {
           "xaxis": {
            "backgroundcolor": "white",
            "gridcolor": "#DFE8F3",
            "gridwidth": 2,
            "linecolor": "#EBF0F8",
            "showbackground": true,
            "ticks": "",
            "zerolinecolor": "#EBF0F8"
           },
           "yaxis": {
            "backgroundcolor": "white",
            "gridcolor": "#DFE8F3",
            "gridwidth": 2,
            "linecolor": "#EBF0F8",
            "showbackground": true,
            "ticks": "",
            "zerolinecolor": "#EBF0F8"
           },
           "zaxis": {
            "backgroundcolor": "white",
            "gridcolor": "#DFE8F3",
            "gridwidth": 2,
            "linecolor": "#EBF0F8",
            "showbackground": true,
            "ticks": "",
            "zerolinecolor": "#EBF0F8"
           }
          },
          "shapedefaults": {
           "line": {
            "color": "#2a3f5f"
           }
          },
          "ternary": {
           "aaxis": {
            "gridcolor": "#DFE8F3",
            "linecolor": "#A2B1C6",
            "ticks": ""
           },
           "baxis": {
            "gridcolor": "#DFE8F3",
            "linecolor": "#A2B1C6",
            "ticks": ""
           },
           "bgcolor": "white",
           "caxis": {
            "gridcolor": "#DFE8F3",
            "linecolor": "#A2B1C6",
            "ticks": ""
           }
          },
          "title": {
           "x": 0.05
          },
          "xaxis": {
           "automargin": true,
           "gridcolor": "#EBF0F8",
           "linecolor": "#EBF0F8",
           "ticks": "",
           "title": {
            "standoff": 15
           },
           "zerolinecolor": "#EBF0F8",
           "zerolinewidth": 2
          },
          "yaxis": {
           "automargin": true,
           "gridcolor": "#EBF0F8",
           "linecolor": "#EBF0F8",
           "ticks": "",
           "title": {
            "standoff": 15
           },
           "zerolinecolor": "#EBF0F8",
           "zerolinewidth": 2
          }
         }
        },
        "title": {
         "text": "Age vs. Performance Score (On-Court Contribution)"
        },
        "xaxis": {
         "anchor": "y",
         "domain": [
          0,
          1
         ],
         "title": {
          "text": "Player Age"
         }
        },
        "yaxis": {
         "anchor": "x",
         "domain": [
          0,
          1
         ],
         "title": {
          "text": "Calculated Performance Score"
         }
        }
       }
      }
     },
     "metadata": {},
     "output_type": "display_data"
    }
   ],
   "source": [
    "# ==============================================================================\n",
    "# Cell 5: Chart 1 - Age vs. Performance Score\n",
    "# ==============================================================================\n",
    "if df is not None:\n",
    "    print(\"Generating visualization: Age vs. Performance Score...\")\n",
    "\n",
    "    fig_age_vs_perf = px.scatter(\n",
    "        df,\n",
    "        x='AGE',\n",
    "        y='Performance_Score',\n",
    "        hover_name='PLAYER',\n",
    "        title='Age vs. Performance Score (On-Court Contribution)',\n",
    "        labels={'AGE': 'Player Age', 'Performance_Score': 'Calculated Performance Score'},\n",
    "        template='plotly_white'\n",
    "    )\n",
    "    fig_age_vs_perf.show()"
   ]
  },
  {
   "cell_type": "code",
   "execution_count": 6,
   "id": "3fd65135-1570-4f3c-9d32-bfe0c8aa0a3d",
   "metadata": {},
   "outputs": [
    {
     "name": "stdout",
     "output_type": "stream",
     "text": [
      "Generating visualization: Age vs. Value...\n"
     ]
    },
    {
     "data": {
      "application/vnd.plotly.v1+json": {
       "config": {
        "plotlyServerURL": "https://plot.ly"
       },
       "data": [
        {
         "hovertemplate": "<b>%{hovertext}</b><br><br>Player Age=%{x}<br>Performance Score per $1M=%{y}<extra></extra>",
         "hovertext": [
          "Joel Embiid",
          "Luka Dončić",
          "Damian Lillard",
          "Shai Gilgeous-Alexander",
          "Giannis Antetokounmpo",
          "Jayson Tatum",
          "Stephen Curry",
          "Kevin Durant",
          "Kevin Durant",
          "Kevin Durant",
          "LeBron James",
          "Donovan Mitchell",
          "Devin Booker",
          "Kyrie Irving",
          "Kyrie Irving",
          "Kyrie Irving",
          "Jaylen Brown",
          "Ja Morant",
          "Trae Young",
          "Zion Williamson",
          "Anthony Davis",
          "Lauri Markkanen",
          "Julius Randle",
          "De'Aaron Fox",
          "Zach LaVine",
          "Brandon Ingram",
          "Anthony Edwards",
          "DeMar DeRozan",
          "Nikola Jokić",
          "Pascal Siakam",
          "Jalen Brunson",
          "Paul George",
          "Kawhi Leonard",
          "LaMelo Ball",
          "Bradley Beal",
          "Kristaps Porziņģis",
          "Jimmy Butler",
          "Jalen Green",
          "Keldon Johnson",
          "Klay Thompson",
          "Bojan Bogdanović",
          "Darius Garland",
          "Desmond Bane",
          "Kyle Kuzma",
          "Terry Rozier",
          "Anfernee Simons",
          "James Harden",
          "CJ McCollum",
          "Jordan Clarkson",
          "Karl-Anthony Towns",
          "Tyrese Haliburton",
          "Jerami Grant",
          "Dejounte Murray",
          "Bam Adebayo",
          "Jordan Poole",
          "Tyrese Maxey",
          "Kelly Oubre Jr.",
          "Mikal Bridges",
          "Mikal Bridges",
          "Mikal Bridges",
          "Tyler Herro",
          "Paolo Banchero",
          "Louis King",
          "Jamal Murray",
          "Cade Cunningham",
          "RJ Barrett",
          "Jrue Holiday",
          "Fred VanVleet",
          "Kevin Porter Jr.",
          "Domantas Sabonis",
          "Jaren Jackson Jr.",
          "Franz Wagner",
          "Devin Vassell",
          "Deandre Ayton",
          "Myles Turner",
          "D'Angelo Russell",
          "D'Angelo Russell",
          "D'Angelo Russell",
          "Nikola Vučević",
          "Michael Porter Jr.",
          "Gary Trent Jr.",
          "Spencer Dinwiddie",
          "Spencer Dinwiddie",
          "Spencer Dinwiddie",
          "Andrew Wiggins",
          "Norman Powell",
          "OG Anunoby",
          "Buddy Hield",
          "Bennedict Mathurin",
          "Josh Giddey",
          "Christian Wood",
          "Aaron Gordon",
          "Jaden Ivey",
          "Evan Mobley",
          "RaiQuan Gray",
          "Brook Lopez",
          "Russell Westbrook",
          "Russell Westbrook",
          "Russell Westbrook",
          "P.J. Washington",
          "Cameron Johnson",
          "Cameron Johnson",
          "Cameron Johnson",
          "De'Andre Hunter",
          "Scottie Barnes",
          "Skylar Mays",
          "Wendell Carter Jr.",
          "Kevin Huerter",
          "Khris Middleton",
          "Harrison Barnes",
          "Malcolm Brogdon",
          "Immanuel Quickley",
          "Alperen Şengün",
          "Tobias Harris",
          "Gordon Hayward",
          "Trey Murphy III",
          "Tim Hardaway Jr.",
          "Jarrett Allen",
          "Dillon Brooks",
          "Collin Sexton",
          "Bobby Portis",
          "Jonas Valančiūnas",
          "Jalen Williams",
          "Bogdan Bogdanović",
          "Markelle Fultz",
          "Chris Paul",
          "Saddiq Bey",
          "Saddiq Bey",
          "Saddiq Bey",
          "Luguentz Dort",
          "Malik Monk",
          "Rudy Gobert",
          "Jusuf Nurkić",
          "Kris Dunn",
          "John Collins",
          "Cole Anthony",
          "Austin Reaves",
          "Tre Jones",
          "Alec Burks",
          "Jabari Smith Jr.",
          "Malik Beasley",
          "Malik Beasley",
          "Malik Beasley",
          "KJ Martin",
          "Nic Claxton",
          "Dennis Schröder",
          "Jakob Poeltl",
          "Jakob Poeltl",
          "Jakob Poeltl",
          "Mac McClung",
          "Kelly Olynyk",
          "Eric Gordon",
          "Eric Gordon",
          "Eric Gordon",
          "Derrick White",
          "Keegan Murray",
          "Caris LeVert",
          "Jaden McDaniels",
          "Marvin Bagley III",
          "Clint Capela",
          "Mike Conley",
          "Mike Conley",
          "Mike Conley",
          "Bones Hyland",
          "Bones Hyland",
          "Bones Hyland",
          "Lonnie Walker IV",
          "Zach Collins",
          "Bruce Brown",
          "Naz Reid",
          "Marcus Smart",
          "Max Strus",
          "John Wall",
          "Quentin Grimes",
          "Isaiah Stewart",
          "Rui Hachimura",
          "Rui Hachimura",
          "Rui Hachimura",
          "Kyle Lowry",
          "Marcus Morris",
          "Corey Kispert",
          "Jeremy Sochan",
          "Mason Plumlee",
          "Mason Plumlee",
          "Mason Plumlee",
          "Kentavious Caldwell-Pope",
          "Jaylen Nowell",
          "Ivica Zubac",
          "Talen Horton-Tucker",
          "Victor Oladipo",
          "Cam Thomas",
          "Jeenathan Williams",
          "Moritz Wagner",
          "Grayson Allen",
          "Killian Hayes",
          "Tyus Jones",
          "Monte Morris",
          "Cameron Payne",
          "Reggie Jackson",
          "Reggie Jackson",
          "Reggie Jackson",
          "Malaki Branham",
          "Doug McDermott",
          "Patrick Williams",
          "Josh Richardson",
          "Josh Richardson",
          "Josh Richardson",
          "De'Anthony Melton",
          "Aaron Nesmith",
          "James Wiseman",
          "James Wiseman",
          "James Wiseman",
          "Brandon Clarke",
          "Jonathan Kuminga",
          "Onyeka Okongwu",
          "Luka Šamanić",
          "Shaedon Sharpe",
          "Jalen Suggs",
          "Thomas Bryant",
          "Thomas Bryant",
          "Thomas Bryant",
          "Josh Hart",
          "Josh Hart",
          "Josh Hart",
          "Al Horford",
          "Herbert Jones",
          "Julian Champagnie",
          "Julian Champagnie",
          "Julian Champagnie",
          "Cam Reddish",
          "Cam Reddish",
          "Cam Reddish",
          "Keita Bates-Diop",
          "Coby White",
          "Caleb Martin",
          "Isaiah Joe",
          "Andrew Nembhard",
          "Jalen McDaniels",
          "Jalen McDaniels",
          "Jalen McDaniels",
          "Kyle Anderson",
          "Chris Boucher",
          "Donte DiVincenzo",
          "Jalen Smith",
          "Gabe Vincent",
          "Luke Kennard",
          "Luke Kennard",
          "Luke Kennard",
          "Hamidou Diallo",
          "Tari Eason",
          "Precious Achiuwa",
          "Deni Avdija",
          "Seth Curry",
          "Walker Kessler",
          "Bol Bol",
          "Jalen Duren",
          "Josh Green",
          "Naji Marshall",
          "Taurean Prince",
          "Jae'Sean Tate",
          "Santi Aldama",
          "Jose Alvarado",
          "Daniel Gafford",
          "Mark Williams",
          "AJ Griffin",
          "Jaden Hardy",
          "Shaquille Harrison",
          "Terance Mann",
          "Royce O'Neale",
          "Dennis Smith Jr.",
          "Jordan Nwora",
          "Jordan Nwora",
          "Jordan Nwora",
          "T.J. McConnell",
          "Cedi Osman",
          "Landry Shamet",
          "Steven Adams",
          "Ayo Dosunmu",
          "Draymond Green",
          "Shake Milton",
          "Dorian Finney-Smith",
          "Dorian Finney-Smith",
          "Dorian Finney-Smith",
          "Terrence Ross",
          "Terrence Ross",
          "Terrence Ross",
          "Gary Harris",
          "Kevin Love",
          "Kevin Love",
          "Kevin Love",
          "Damion Lee",
          "Georges Niang",
          "Nick Richards",
          "Aleksej Pokusevski",
          "Grant Williams",
          "Jevon Carter",
          "Kemba Walker",
          "Kenrich Williams",
          "Robert Williams",
          "Gabe York",
          "Jarred Vanderbilt",
          "Jarred Vanderbilt",
          "Jarred Vanderbilt",
          "Ochai Agbaji",
          "Chris Duarte",
          "Duane Washington Jr.",
          "Jeff Green",
          "Tre Mann",
          "Pat Connaughton",
          "Joe Harris",
          "Trey Lyles",
          "T.J. Warren",
          "T.J. Warren",
          "T.J. Warren",
          "Devonte' Graham",
          "Devonte' Graham",
          "Devonte' Graham",
          "Torrey Craig",
          "Mitchell Robinson",
          "Obi Toppin",
          "Trendon Watford",
          "Delon Wright",
          "Jay Huff",
          "Josh Okogie",
          "Reggie Bullock",
          "Isaiah Jackson",
          "Kendrick Nunn",
          "Kendrick Nunn",
          "Kendrick Nunn",
          "Troy Brown Jr.",
          "Edmond Sumner",
          "Lindell Wigginton",
          "Eugene Omoruyi",
          "Eugene Omoruyi",
          "Eugene Omoruyi",
          "Chance Comanche",
          "Kevon Looney",
          "Joshua Primo",
          "Daniel Theis",
          "Xavier Tillman Sr.",
          "Svi Mykhailiuk",
          "Svi Mykhailiuk",
          "Svi Mykhailiuk",
          "Jae Crowder",
          "Willy Hernangómez",
          "Joe Ingles",
          "Ty Jerome",
          "Cory Joseph",
          "Romeo Langford",
          "Ben Simmons",
          "Will Barton",
          "Will Barton",
          "Will Barton",
          "Larry Nance Jr.",
          "Jeremiah Robinson-Earl",
          "Aaron Wiggins",
          "Justise Winslow",
          "Terence Davis",
          "Anthony Lamb",
          "Isaiah Livers",
          "Théo Maledon",
          "Dwight Powell",
          "David Roddy",
          "Kevin Knox",
          "Kevin Knox",
          "Kevin Knox",
          "Mo Bamba",
          "Mo Bamba",
          "Mo Bamba",
          "Drew Eubanks",
          "Jordan Goodwin",
          "Jock Landale",
          "Nassir Little",
          "Brandon Boston Jr.",
          "Luka Garza",
          "Jay Scrubb",
          "Cody Zeller",
          "Dario Šarić",
          "Dario Šarić",
          "Dario Šarić",
          "R.J. Hampton",
          "R.J. Hampton",
          "R.J. Hampton",
          "JaMychal Green",
          "Sam Hauser",
          "Isaac Okoro",
          "Duncan Robinson",
          "Goran Dragić",
          "Goran Dragić",
          "Goran Dragić",
          "Simone Fontecchio",
          "Patrick Beverley",
          "Patrick Beverley",
          "Patrick Beverley",
          "Nickeil Alexander-Walker",
          "Nickeil Alexander-Walker",
          "Nickeil Alexander-Walker",
          "Jared Butler",
          "Quenton Jackson",
          "Patty Mills",
          "Sandro Mamukelashvili",
          "Sandro Mamukelashvili",
          "Sandro Mamukelashvili",
          "Mike Muscala",
          "Mike Muscala",
          "Mike Muscala",
          "Nicolas Batum",
          "Oshae Brissett",
          "Evan Fournier",
          "Saben Lee",
          "Saben Lee",
          "Saben Lee",
          "Robert Covington",
          "Andre Drummond",
          "Maxi Kleber",
          "Jaylin Williams",
          "Josh Christopher",
          "Johnny Davis",
          "Stanley Johnson",
          "Charles Bassey",
          "Rodney McGruder",
          "Ziaire Williams",
          "James Bouknight",
          "Alex Caruso",
          "Montrezl Harrell",
          "Jalen Johnson",
          "Davion Mitchell",
          "Payton Pritchard",
          "Derrick Rose",
          "Yuta Watanabe",
          "Danny Green",
          "Danny Green",
          "Danny Green",
          "Jarrell Brantley",
          "Wenyen Gabriel",
          "Nikola Jović",
          "Otto Porter Jr.",
          "Jamal Cain",
          "Bryce McGowens",
          "Lamar Stevens",
          "Dewayne Dedmon",
          "Dewayne Dedmon",
          "Dewayne Dedmon",
          "Darius Bazley",
          "Darius Bazley",
          "Darius Bazley",
          "Rudy Gay",
          "Javonte Green",
          "Zeke Nnaji",
          "Ricky Rubio",
          "Lindy Waters III",
          "MarJon Beauchamp",
          "DeAndre Jordan",
          "John Konchar",
          "George Hill",
          "George Hill",
          "George Hill",
          "Vlatko Čančar",
          "Isaiah Hartenstein",
          "Jaxson Hayes",
          "Jonathan Isaac",
          "Derrick Jones Jr.",
          "Kenneth Lofton Jr.",
          "Cody Martin",
          "Sam Merrill",
          "Blake Wesley",
          "Ousmane Dieng",
          "Chimezie Metu",
          "Austin Rivers",
          "Danuel House Jr.",
          "Johnny Juzang",
          "Meyers Leonard",
          "Garrison Mathews",
          "Garrison Mathews",
          "Garrison Mathews",
          "Moses Moody",
          "Christian Braun",
          "Keon Johnson",
          "Chuma Okeke",
          "Day'Ron Sharpe",
          "Dean Wade",
          "TyTy Washington Jr.",
          "Gary Payton II",
          "Gary Payton II",
          "Gary Payton II",
          "Dalano Banton",
          "Dāvis Bertāns",
          "Malachi Flynn",
          "Kira Lewis Jr.",
          "Justin Holiday",
          "Justin Holiday",
          "Justin Holiday",
          "Goga Bitadze",
          "Goga Bitadze",
          "Goga Bitadze",
          "Jarrett Culver",
          "A.J. Green",
          "Haywood Highsmith",
          "JaVale McGee",
          "Thaddeus Young",
          "Omer Yurtseven",
          "Moses Brown",
          "Moses Brown",
          "Moses Brown",
          "Bismack Biyombo",
          "Michael Carter-Williams",
          "Justin Minaya",
          "Xavier Sneed",
          "Paul Reed",
          "Admiral Schofield",
          "Ish Wainright",
          "McKinley Wright IV",
          "Matisse Thybulle",
          "Matisse Thybulle",
          "Matisse Thybulle",
          "Blake Griffin",
          "Kevon Harris",
          "Serge Ibaka",
          "Isaiah Roby",
          "Daishen Nix",
          "Olivier Sarr",
          "Bruno Fernando",
          "Bruno Fernando",
          "Bruno Fernando",
          "Patrick Baldwin Jr.",
          "Dominick Barlow",
          "Gorgui Dieng",
          "Udonis Haslem",
          "Aaron Holiday",
          "Jabari Walker",
          "Markieff Morris",
          "Markieff Morris",
          "Markieff Morris",
          "Xavier Cooks",
          "Dyson Daniels",
          "Darius Days",
          "Caleb Houstan",
          "Furkan Korkmaz",
          "Luke Kornet",
          "JT Thor",
          "A.J. Lawson",
          "A.J. Lawson",
          "A.J. Lawson",
          "David Duke Jr.",
          "Nathan Knight",
          "Jordan McLaughlin",
          "Orlando Robinson",
          "Matt Ryan",
          "Matt Ryan",
          "Matt Ryan",
          "Bryn Forbes",
          "Damian Jones",
          "Damian Jones",
          "Damian Jones",
          "Udoka Azubuike",
          "Miles McBride",
          "P.J. Tucker",
          "Amir Coffey",
          "Taj Gibson",
          "Kai Jones",
          "Wesley Matthews",
          "Micah Potter",
          "Jericho Sims",
          "Anthony Gill",
          "Boban Marjanović",
          "Raul Neto",
          "Peyton Watson",
          "Jared Rhoden",
          "Max Christie",
          "Jordan Hall",
          "Richaun Holmes",
          "Christian Koloko",
          "Josh Minott",
          "Jamaree Bouyea",
          "Jamaree Bouyea",
          "Jamaree Bouyea",
          "Juan Toscano-Anderson",
          "Juan Toscano-Anderson",
          "Juan Toscano-Anderson",
          "Tyler Dorsey",
          "Usman Garuba",
          "Jacob Gilyard",
          "Jake LaRavia",
          "Robin Lopez",
          "Trevelin Queen",
          "Terry Taylor",
          "Terry Taylor",
          "Terry Taylor",
          "Dru Smith",
          "Dru Smith",
          "Dru Smith",
          "Juancho Hernangómez",
          "Carlik Jones",
          "Frank Ntilikina",
          "Jason Preston",
          "Kessler Edwards",
          "Kessler Edwards",
          "Kessler Edwards",
          "James Johnson",
          "Moussa Diabaté",
          "Mamadi Diakite",
          "Isaiah Mobley",
          "Jaden Springer",
          "Frank Kaminsky",
          "Frank Kaminsky",
          "Frank Kaminsky",
          "Lester Quiñones",
          "Ish Smith",
          "John Butler",
          "Jeff Dowtin",
          "Theo Pinson",
          "Neemias Queta",
          "Trent Forrest",
          "Scotty Pippen Jr.",
          "Justin Champagnie",
          "Justin Champagnie",
          "Justin Champagnie",
          "Khem Birch",
          "Kennedy Chandler",
          "Ron Harper Jr.",
          "Dalen Terry",
          "Nerlens Noel",
          "Nerlens Noel",
          "Nerlens Noel",
          "Davon Reed",
          "Davon Reed",
          "Davon Reed",
          "Andre Iguodala",
          "Chris Silva",
          "Garrett Temple",
          "Stanley Umude",
          "Donovan Williams",
          "Vince Williams Jr.",
          "Ryan Rollins",
          "Greg Brown III",
          "Trevor Hudgins",
          "Alize Johnson",
          "Xavier Moon",
          "Alex Len",
          "Dylan Windler",
          "Buddy Boeheim",
          "Tony Bradley",
          "JD Davison",
          "Kendall Brown",
          "Matthew Dellavedova",
          "Keon Ellis",
          "Mfiondu Kabengele",
          "Jordan Schakel",
          "Isaiah Todd",
          "Thanasis Antetokounmpo",
          "PJ Dozier",
          "Wendell Moore Jr.",
          "Ryan Arcidiacono",
          "Ryan Arcidiacono",
          "Ryan Arcidiacono",
          "Facundo Campazzo",
          "Braxton Key",
          "Tyrese Martin",
          "KZ Okpala",
          "Cole Swider",
          "Vit Krejci",
          "Jack White",
          "Noah Vonleh",
          "Malcolm Hill",
          "Trevor Keels",
          "Chima Moneke",
          "Kobi Simmons",
          "Joe Wieskamp",
          "Justin Jackson",
          "Marko Simonovic",
          "Dereon Seabron",
          "Vernon Carey Jr.",
          "Devon Dotson",
          "Leandro Bolmaro",
          "Sterling Brown",
          "Deonte Burton",
          "Michael Foster Jr.",
          "Frank Jackson",
          "Alondes Williams",
          "Kawhi Leonard",
          "Devin Booker",
          "Anthony Edwards",
          "Stephen Curry",
          "Nikola Jokić",
          "Trae Young",
          "Kevin Durant",
          "Jalen Brunson",
          "De'Aaron Fox",
          "Jayson Tatum",
          "Jimmy Butler",
          "Jamal Murray",
          "Ja Morant",
          "LeBron James",
          "Khris Middleton",
          "Joel Embiid",
          "Russell Westbrook",
          "Desmond Bane",
          "Mikal Bridges",
          "Giannis Antetokounmpo",
          "Donovan Mitchell",
          "Dejounte Murray",
          "Jaylen Brown",
          "Anthony Davis",
          "Norman Powell",
          "Darius Garland",
          "Tyrese Maxey",
          "James Harden",
          "RJ Barrett",
          "Brook Lopez",
          "Malik Monk",
          "Cameron Johnson",
          "Klay Thompson",
          "Karl-Anthony Towns",
          "Jaren Jackson Jr.",
          "Bam Adebayo",
          "Jrue Holiday",
          "Austin Reaves",
          "De'Andre Hunter",
          "Andrew Wiggins",
          "Julius Randle",
          "Spencer Dinwiddie",
          "Domantas Sabonis",
          "Tobias Harris",
          "Rudy Gobert",
          "Caris LeVert",
          "Marcus Smart",
          "Deandre Ayton",
          "Michael Porter Jr.",
          "Derrick White",
          "Bogdan Bogdanović",
          "Aaron Gordon",
          "D'Angelo Russell",
          "Caleb Martin",
          "Gabe Vincent",
          "Chris Paul",
          "Rui Hachimura",
          "Bruce Brown",
          "Mike Conley",
          "Pat Connaughton",
          "Tyler Herro",
          "Malcolm Brogdon",
          "Grayson Allen",
          "Victor Oladipo",
          "John Collins",
          "Harrison Barnes",
          "Kentavious Caldwell-Pope",
          "Terance Mann",
          "Dillon Brooks",
          "Nic Claxton",
          "Josh Hart",
          "Jordan Poole",
          "Eric Gordon",
          "Evan Mobley",
          "Keegan Murray",
          "Bobby Portis",
          "Jarrett Allen",
          "Draymond Green",
          "Max Strus",
          "Kyle Lowry",
          "Ivica Zubac",
          "Kevin Huerter",
          "Immanuel Quickley",
          "Duncan Robinson",
          "Marcus Morris",
          "Xavier Tillman Sr.",
          "Bones Hyland",
          "Kyle Anderson",
          "Nickeil Alexander-Walker",
          "Clint Capela",
          "Seth Curry",
          "Mason Plumlee",
          "Cameron Payne",
          "De'Anthony Melton",
          "Taurean Prince",
          "Robert Williams",
          "Saddiq Bey",
          "Dennis Schröder",
          "Luke Kennard",
          "Davion Mitchell",
          "Obi Toppin",
          "Kevin Love",
          "Joe Ingles",
          "Gary Payton II",
          "Al Horford",
          "Trey Lyles",
          "Santi Aldama",
          "Torrey Craig",
          "Kevon Looney",
          "Mitchell Robinson",
          "Isaac Okoro",
          "Dorian Finney-Smith",
          "Lonnie Walker IV",
          "Jock Landale",
          "Terence Davis",
          "Wesley Matthews",
          "Onyeka Okongwu",
          "Cedi Osman",
          "Moses Moody",
          "Donte DiVincenzo",
          "Quentin Grimes",
          "Grant Williams",
          "Royce O'Neale",
          "P.J. Tucker",
          "Landry Shamet",
          "Paul Reed",
          "Jarred Vanderbilt",
          "Tyus Jones",
          "Nicolas Batum",
          "Georges Niang",
          "Jalen Johnson",
          "Jeff Green",
          "Josh Okogie",
          "Robin Lopez",
          "David Roddy",
          "Terrence Ross",
          "Bismack Biyombo",
          "Jonathan Kuminga",
          "JaMychal Green",
          "Haywood Highsmith",
          "Christian Braun",
          "Jaylen Nowell",
          "Payton Pritchard",
          "Isaiah Hartenstein",
          "Malik Beasley",
          "Day'Ron Sharpe",
          "Cam Thomas",
          "Yuta Watanabe",
          "Danuel House Jr.",
          "PJ Dozier",
          "Alex Len",
          "T.J. Warren",
          "MarJon Beauchamp",
          "Austin Rivers",
          "Lamar Stevens",
          "Jalen McDaniels",
          "Jaden Springer",
          "Cody Zeller",
          "Luke Kornet",
          "Damion Lee",
          "Goran Dragić",
          "David Duke Jr.",
          "Sam Hauser",
          "Troy Brown Jr.",
          "Jae Crowder",
          "Joe Harris",
          "Kenneth Lofton Jr.",
          "Tristan Thompson",
          "Mike Muscala",
          "Max Christie",
          "Jevon Carter",
          "Shaquille Harrison",
          "DeAndre Jordan",
          "Shake Milton",
          "Ziaire Williams",
          "Wenyen Gabriel",
          "Nathan Knight",
          "Zeke Nnaji",
          "Dean Wade",
          "Peyton Watson",
          "Danny Green",
          "John Konchar",
          "Anthony Lamb",
          "Furkan Korkmaz",
          "Chimezie Metu",
          "Justin Champagnie",
          "Reggie Jackson",
          "Raul Neto",
          "Ish Smith",
          "Ish Wainright",
          "Omer Yurtseven",
          "Miles McBride",
          "Nikola Jović",
          "Thanasis Antetokounmpo",
          "Patrick Baldwin Jr.",
          "Mo Bamba",
          "Brandon Boston Jr.",
          "Thomas Bryant",
          "Vlatko Čančar",
          "Amir Coffey",
          "Robert Covington",
          "Dewayne Dedmon",
          "Kessler Edwards",
          "Blake Griffin",
          "Montrezl Harrell",
          "Udonis Haslem",
          "Aaron Holiday",
          "DaQuan Jeffries",
          "Meyers Leonard",
          "Jordan McLaughlin",
          "Patty Mills",
          "Josh Minott",
          "Wendell Moore Jr.",
          "Jason Preston",
          "Derrick Rose",
          "Ricky Rubio",
          "Edmond Sumner"
         ],
         "legendgroup": "",
         "marker": {
          "color": "#636efa",
          "symbol": "circle"
         },
         "mode": "markers",
         "name": "",
         "orientation": "v",
         "showlegend": false,
         "type": "scatter",
         "x": {
          "bdata": "HBcgGBwYIiIiIiYaGh4eHhoXGBYdGRwZGxkVIRscGiAfFR0bIRQXICEXGBscFyEfHhsWHBoZFxYbGhoaFxQXGRUWIBwWGhcVFhgaGhoaIBgYHR0dGx0ZHhQUGxsUFRciIiIiGBoaGhkVGRcYHx4eFxQeIBYeGBsYGx4VHhglFxcXFxgeHBwZFhgXHxMaGhoWFx0bGxsYHyIiIhwWHBYXHCMjIxYWFhgZGhccGiAWFRgYGCQhFxMgICAdFxkWHhUXGRsVGhscICAgEx8VHR0dGBcVFRUaFBYXExUZGRkbGxskGBUVFRcXFxsWGxcXGRkZHR4aFhoaGhoYFRcWIBUXExYZHBsWGBgVExQdGh0ZGBgYHhsZHRcgGh0dHR8fHxwiIiIeHRkVGBsgHBkdFxcXFhkWJBUeHxsdHR0bGxsgGBgWHhgYHxUbGxsXGxgZGRkaGhQeGBkZGSAcIxkfFxogICAeFhgaGRkYFR8VFxcXGBgYGRgbFhUYFh4cHBwVFRUgGRYcJCQkGyIiIhgYGBYYIhcXFx8fHyIYHhcXFyAdHxQVFBoWHxUWHB0VGBkiHCMjIxoZEx0XFBkhISEWFhYkHRYgGRYiGiQkJBkYFhkZFBsaExMZHh0VHhoaGhQVFBgVGhUeHh4XHhgVISEhFxcXFxcaIyIYFxcXHh8XGRcZHBgZGRkhGSEYFBcYGBgUEyEqGhQhISEbExcUGRsUFhYWFxkaFhkZGR0bGxsXFiUZJRYkGBgeIh4UFxMVHRYUFxcXHR0dGhQYFSIZFxcXGRkZGxkYFxYWFiMVGhcUHR0dFiIUGRsXGBYVFRUeFBYUHBwcGxsbJxokFxUWFBUXGhwdGhcZFBMgFxkYFR4aFRwcHB8ZFxcXFhkbGxMbGRcbFxYVFxYbHRQYFx8aFSIbGCIaGRghGRcmHxwiGBocGhoaHR0XFiEWIhgaIBsXGSAYGRscHRoeHhwcGBgcHhsaGxolGBojHhceGx4ZHh0aGxcbFyIVFhsYIBokGRgXHCEYFh0YHCAgHBgcGRcdGhgYIiMeJBsWIBoYFh0YGxkkFhsUGhYYHSUZFxcaIh0VJBgiFR8eFCAaFRcZGBoVFRwdGh0dFh4ZGRQeGx4kFxkXIB8UHx8TGx0iGhUZGRYaFCMaGRkZFSAeIhwYFhMeFBgVGRkZICEWIR0qGhkeGiIUFRciIBs=",
          "dtype": "i1"
         },
         "xaxis": "x",
         "y": {
          "bdata": "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",
          "dtype": "f8"
         },
         "yaxis": "y"
        }
       ],
       "layout": {
        "legend": {
         "tracegroupgap": 0
        },
        "template": {
         "data": {
          "bar": [
           {
            "error_x": {
             "color": "#2a3f5f"
            },
            "error_y": {
             "color": "#2a3f5f"
            },
            "marker": {
             "line": {
              "color": "white",
              "width": 0.5
             },
             "pattern": {
              "fillmode": "overlay",
              "size": 10,
              "solidity": 0.2
             }
            },
            "type": "bar"
           }
          ],
          "barpolar": [
           {
            "marker": {
             "line": {
              "color": "white",
              "width": 0.5
             },
             "pattern": {
              "fillmode": "overlay",
              "size": 10,
              "solidity": 0.2
             }
            },
            "type": "barpolar"
           }
          ],
          "carpet": [
           {
            "aaxis": {
             "endlinecolor": "#2a3f5f",
             "gridcolor": "#C8D4E3",
             "linecolor": "#C8D4E3",
             "minorgridcolor": "#C8D4E3",
             "startlinecolor": "#2a3f5f"
            },
            "baxis": {
             "endlinecolor": "#2a3f5f",
             "gridcolor": "#C8D4E3",
             "linecolor": "#C8D4E3",
             "minorgridcolor": "#C8D4E3",
             "startlinecolor": "#2a3f5f"
            },
            "type": "carpet"
           }
          ],
          "choropleth": [
           {
            "colorbar": {
             "outlinewidth": 0,
             "ticks": ""
            },
            "type": "choropleth"
           }
          ],
          "contour": [
           {
            "colorbar": {
             "outlinewidth": 0,
             "ticks": ""
            },
            "colorscale": [
             [
              0,
              "#0d0887"
             ],
             [
              0.1111111111111111,
              "#46039f"
             ],
             [
              0.2222222222222222,
              "#7201a8"
             ],
             [
              0.3333333333333333,
              "#9c179e"
             ],
             [
              0.4444444444444444,
              "#bd3786"
             ],
             [
              0.5555555555555556,
              "#d8576b"
             ],
             [
              0.6666666666666666,
              "#ed7953"
             ],
             [
              0.7777777777777778,
              "#fb9f3a"
             ],
             [
              0.8888888888888888,
              "#fdca26"
             ],
             [
              1,
              "#f0f921"
             ]
            ],
            "type": "contour"
           }
          ],
          "contourcarpet": [
           {
            "colorbar": {
             "outlinewidth": 0,
             "ticks": ""
            },
            "type": "contourcarpet"
           }
          ],
          "heatmap": [
           {
            "colorbar": {
             "outlinewidth": 0,
             "ticks": ""
            },
            "colorscale": [
             [
              0,
              "#0d0887"
             ],
             [
              0.1111111111111111,
              "#46039f"
             ],
             [
              0.2222222222222222,
              "#7201a8"
             ],
             [
              0.3333333333333333,
              "#9c179e"
             ],
             [
              0.4444444444444444,
              "#bd3786"
             ],
             [
              0.5555555555555556,
              "#d8576b"
             ],
             [
              0.6666666666666666,
              "#ed7953"
             ],
             [
              0.7777777777777778,
              "#fb9f3a"
             ],
             [
              0.8888888888888888,
              "#fdca26"
             ],
             [
              1,
              "#f0f921"
             ]
            ],
            "type": "heatmap"
           }
          ],
          "histogram": [
           {
            "marker": {
             "pattern": {
              "fillmode": "overlay",
              "size": 10,
              "solidity": 0.2
             }
            },
            "type": "histogram"
           }
          ],
          "histogram2d": [
           {
            "colorbar": {
             "outlinewidth": 0,
             "ticks": ""
            },
            "colorscale": [
             [
              0,
              "#0d0887"
             ],
             [
              0.1111111111111111,
              "#46039f"
             ],
             [
              0.2222222222222222,
              "#7201a8"
             ],
             [
              0.3333333333333333,
              "#9c179e"
             ],
             [
              0.4444444444444444,
              "#bd3786"
             ],
             [
              0.5555555555555556,
              "#d8576b"
             ],
             [
              0.6666666666666666,
              "#ed7953"
             ],
             [
              0.7777777777777778,
              "#fb9f3a"
             ],
             [
              0.8888888888888888,
              "#fdca26"
             ],
             [
              1,
              "#f0f921"
             ]
            ],
            "type": "histogram2d"
           }
          ],
          "histogram2dcontour": [
           {
            "colorbar": {
             "outlinewidth": 0,
             "ticks": ""
            },
            "colorscale": [
             [
              0,
              "#0d0887"
             ],
             [
              0.1111111111111111,
              "#46039f"
             ],
             [
              0.2222222222222222,
              "#7201a8"
             ],
             [
              0.3333333333333333,
              "#9c179e"
             ],
             [
              0.4444444444444444,
              "#bd3786"
             ],
             [
              0.5555555555555556,
              "#d8576b"
             ],
             [
              0.6666666666666666,
              "#ed7953"
             ],
             [
              0.7777777777777778,
              "#fb9f3a"
             ],
             [
              0.8888888888888888,
              "#fdca26"
             ],
             [
              1,
              "#f0f921"
             ]
            ],
            "type": "histogram2dcontour"
           }
          ],
          "mesh3d": [
           {
            "colorbar": {
             "outlinewidth": 0,
             "ticks": ""
            },
            "type": "mesh3d"
           }
          ],
          "parcoords": [
           {
            "line": {
             "colorbar": {
              "outlinewidth": 0,
              "ticks": ""
             }
            },
            "type": "parcoords"
           }
          ],
          "pie": [
           {
            "automargin": true,
            "type": "pie"
           }
          ],
          "scatter": [
           {
            "fillpattern": {
             "fillmode": "overlay",
             "size": 10,
             "solidity": 0.2
            },
            "type": "scatter"
           }
          ],
          "scatter3d": [
           {
            "line": {
             "colorbar": {
              "outlinewidth": 0,
              "ticks": ""
             }
            },
            "marker": {
             "colorbar": {
              "outlinewidth": 0,
              "ticks": ""
             }
            },
            "type": "scatter3d"
           }
          ],
          "scattercarpet": [
           {
            "marker": {
             "colorbar": {
              "outlinewidth": 0,
              "ticks": ""
             }
            },
            "type": "scattercarpet"
           }
          ],
          "scattergeo": [
           {
            "marker": {
             "colorbar": {
              "outlinewidth": 0,
              "ticks": ""
             }
            },
            "type": "scattergeo"
           }
          ],
          "scattergl": [
           {
            "marker": {
             "colorbar": {
              "outlinewidth": 0,
              "ticks": ""
             }
            },
            "type": "scattergl"
           }
          ],
          "scattermap": [
           {
            "marker": {
             "colorbar": {
              "outlinewidth": 0,
              "ticks": ""
             }
            },
            "type": "scattermap"
           }
          ],
          "scattermapbox": [
           {
            "marker": {
             "colorbar": {
              "outlinewidth": 0,
              "ticks": ""
             }
            },
            "type": "scattermapbox"
           }
          ],
          "scatterpolar": [
           {
            "marker": {
             "colorbar": {
              "outlinewidth": 0,
              "ticks": ""
             }
            },
            "type": "scatterpolar"
           }
          ],
          "scatterpolargl": [
           {
            "marker": {
             "colorbar": {
              "outlinewidth": 0,
              "ticks": ""
             }
            },
            "type": "scatterpolargl"
           }
          ],
          "scatterternary": [
           {
            "marker": {
             "colorbar": {
              "outlinewidth": 0,
              "ticks": ""
             }
            },
            "type": "scatterternary"
           }
          ],
          "surface": [
           {
            "colorbar": {
             "outlinewidth": 0,
             "ticks": ""
            },
            "colorscale": [
             [
              0,
              "#0d0887"
             ],
             [
              0.1111111111111111,
              "#46039f"
             ],
             [
              0.2222222222222222,
              "#7201a8"
             ],
             [
              0.3333333333333333,
              "#9c179e"
             ],
             [
              0.4444444444444444,
              "#bd3786"
             ],
             [
              0.5555555555555556,
              "#d8576b"
             ],
             [
              0.6666666666666666,
              "#ed7953"
             ],
             [
              0.7777777777777778,
              "#fb9f3a"
             ],
             [
              0.8888888888888888,
              "#fdca26"
             ],
             [
              1,
              "#f0f921"
             ]
            ],
            "type": "surface"
           }
          ],
          "table": [
           {
            "cells": {
             "fill": {
              "color": "#EBF0F8"
             },
             "line": {
              "color": "white"
             }
            },
            "header": {
             "fill": {
              "color": "#C8D4E3"
             },
             "line": {
              "color": "white"
             }
            },
            "type": "table"
           }
          ]
         },
         "layout": {
          "annotationdefaults": {
           "arrowcolor": "#2a3f5f",
           "arrowhead": 0,
           "arrowwidth": 1
          },
          "autotypenumbers": "strict",
          "coloraxis": {
           "colorbar": {
            "outlinewidth": 0,
            "ticks": ""
           }
          },
          "colorscale": {
           "diverging": [
            [
             0,
             "#8e0152"
            ],
            [
             0.1,
             "#c51b7d"
            ],
            [
             0.2,
             "#de77ae"
            ],
            [
             0.3,
             "#f1b6da"
            ],
            [
             0.4,
             "#fde0ef"
            ],
            [
             0.5,
             "#f7f7f7"
            ],
            [
             0.6,
             "#e6f5d0"
            ],
            [
             0.7,
             "#b8e186"
            ],
            [
             0.8,
             "#7fbc41"
            ],
            [
             0.9,
             "#4d9221"
            ],
            [
             1,
             "#276419"
            ]
           ],
           "sequential": [
            [
             0,
             "#0d0887"
            ],
            [
             0.1111111111111111,
             "#46039f"
            ],
            [
             0.2222222222222222,
             "#7201a8"
            ],
            [
             0.3333333333333333,
             "#9c179e"
            ],
            [
             0.4444444444444444,
             "#bd3786"
            ],
            [
             0.5555555555555556,
             "#d8576b"
            ],
            [
             0.6666666666666666,
             "#ed7953"
            ],
            [
             0.7777777777777778,
             "#fb9f3a"
            ],
            [
             0.8888888888888888,
             "#fdca26"
            ],
            [
             1,
             "#f0f921"
            ]
           ],
           "sequentialminus": [
            [
             0,
             "#0d0887"
            ],
            [
             0.1111111111111111,
             "#46039f"
            ],
            [
             0.2222222222222222,
             "#7201a8"
            ],
            [
             0.3333333333333333,
             "#9c179e"
            ],
            [
             0.4444444444444444,
             "#bd3786"
            ],
            [
             0.5555555555555556,
             "#d8576b"
            ],
            [
             0.6666666666666666,
             "#ed7953"
            ],
            [
             0.7777777777777778,
             "#fb9f3a"
            ],
            [
             0.8888888888888888,
             "#fdca26"
            ],
            [
             1,
             "#f0f921"
            ]
           ]
          },
          "colorway": [
           "#636efa",
           "#EF553B",
           "#00cc96",
           "#ab63fa",
           "#FFA15A",
           "#19d3f3",
           "#FF6692",
           "#B6E880",
           "#FF97FF",
           "#FECB52"
          ],
          "font": {
           "color": "#2a3f5f"
          },
          "geo": {
           "bgcolor": "white",
           "lakecolor": "white",
           "landcolor": "white",
           "showlakes": true,
           "showland": true,
           "subunitcolor": "#C8D4E3"
          },
          "hoverlabel": {
           "align": "left"
          },
          "hovermode": "closest",
          "mapbox": {
           "style": "light"
          },
          "paper_bgcolor": "white",
          "plot_bgcolor": "white",
          "polar": {
           "angularaxis": {
            "gridcolor": "#EBF0F8",
            "linecolor": "#EBF0F8",
            "ticks": ""
           },
           "bgcolor": "white",
           "radialaxis": {
            "gridcolor": "#EBF0F8",
            "linecolor": "#EBF0F8",
            "ticks": ""
           }
          },
          "scene": {
           "xaxis": {
            "backgroundcolor": "white",
            "gridcolor": "#DFE8F3",
            "gridwidth": 2,
            "linecolor": "#EBF0F8",
            "showbackground": true,
            "ticks": "",
            "zerolinecolor": "#EBF0F8"
           },
           "yaxis": {
            "backgroundcolor": "white",
            "gridcolor": "#DFE8F3",
            "gridwidth": 2,
            "linecolor": "#EBF0F8",
            "showbackground": true,
            "ticks": "",
            "zerolinecolor": "#EBF0F8"
           },
           "zaxis": {
            "backgroundcolor": "white",
            "gridcolor": "#DFE8F3",
            "gridwidth": 2,
            "linecolor": "#EBF0F8",
            "showbackground": true,
            "ticks": "",
            "zerolinecolor": "#EBF0F8"
           }
          },
          "shapedefaults": {
           "line": {
            "color": "#2a3f5f"
           }
          },
          "ternary": {
           "aaxis": {
            "gridcolor": "#DFE8F3",
            "linecolor": "#A2B1C6",
            "ticks": ""
           },
           "baxis": {
            "gridcolor": "#DFE8F3",
            "linecolor": "#A2B1C6",
            "ticks": ""
           },
           "bgcolor": "white",
           "caxis": {
            "gridcolor": "#DFE8F3",
            "linecolor": "#A2B1C6",
            "ticks": ""
           }
          },
          "title": {
           "x": 0.05
          },
          "xaxis": {
           "automargin": true,
           "gridcolor": "#EBF0F8",
           "linecolor": "#EBF0F8",
           "ticks": "",
           "title": {
            "standoff": 15
           },
           "zerolinecolor": "#EBF0F8",
           "zerolinewidth": 2
          },
          "yaxis": {
           "automargin": true,
           "gridcolor": "#EBF0F8",
           "linecolor": "#EBF0F8",
           "ticks": "",
           "title": {
            "standoff": 15
           },
           "zerolinecolor": "#EBF0F8",
           "zerolinewidth": 2
          }
         }
        },
        "title": {
         "text": "Age vs. Value (Performance Score per $1M Salary)"
        },
        "xaxis": {
         "anchor": "y",
         "domain": [
          0,
          1
         ],
         "title": {
          "text": "Player Age"
         }
        },
        "yaxis": {
         "anchor": "x",
         "domain": [
          0,
          1
         ],
         "title": {
          "text": "Performance Score per $1M"
         }
        }
       }
      }
     },
     "metadata": {},
     "output_type": "display_data"
    }
   ],
   "source": [
    "# ==============================================================================\n",
    "# Cell 6: Chart 2 - Age vs. Value (PS/$M)\n",
    "# ==============================================================================\n",
    "if df is not None:\n",
    "    print(\"Generating visualization: Age vs. Value...\")\n",
    "\n",
    "    fig_age_vs_value = px.scatter(\n",
    "        df,\n",
    "        x='AGE',\n",
    "        y='PS_per_Million',\n",
    "        hover_name='PLAYER',\n",
    "        title='Age vs. Value (Performance Score per $1M Salary)',\n",
    "        labels={'AGE': 'Player Age', 'PS_per_Million': 'Performance Score per $1M'},\n",
    "        template='plotly_white'\n",
    "    )\n",
    "    fig_age_vs_value.show()"
   ]
  },
  {
   "cell_type": "code",
   "execution_count": 7,
   "id": "f6d45dfd-78c5-4b15-b980-94e0c7cd9985",
   "metadata": {},
   "outputs": [
    {
     "name": "stdout",
     "output_type": "stream",
     "text": [
      "Generating 'Future Pillars Watchlist'...\n",
      "\n",
      "--- Top 15 Future Pillar Candidates (Under 26, >15 MPG) ---\n"
     ]
    },
    {
     "data": {
      "text/html": [
       "<div>\n",
       "<style scoped>\n",
       "    .dataframe tbody tr th:only-of-type {\n",
       "        vertical-align: middle;\n",
       "    }\n",
       "\n",
       "    .dataframe tbody tr th {\n",
       "        vertical-align: top;\n",
       "    }\n",
       "\n",
       "    .dataframe thead th {\n",
       "        text-align: right;\n",
       "    }\n",
       "</style>\n",
       "<table border=\"1\" class=\"dataframe\">\n",
       "  <thead>\n",
       "    <tr style=\"text-align: right;\">\n",
       "      <th></th>\n",
       "      <th>PLAYER</th>\n",
       "      <th>AGE</th>\n",
       "      <th>TEAM</th>\n",
       "      <th>Performance_Score</th>\n",
       "      <th>PS_per_Million</th>\n",
       "      <th>Rank_Gap</th>\n",
       "    </tr>\n",
       "  </thead>\n",
       "  <tbody>\n",
       "    <tr>\n",
       "      <th>94</th>\n",
       "      <td>RaiQuan Gray</td>\n",
       "      <td>23</td>\n",
       "      <td>BRK</td>\n",
       "      <td>55.50</td>\n",
       "      <td>8958.837772</td>\n",
       "      <td>818.0</td>\n",
       "    </tr>\n",
       "    <tr>\n",
       "      <th>581</th>\n",
       "      <td>Jacob Gilyard</td>\n",
       "      <td>24</td>\n",
       "      <td>MEM</td>\n",
       "      <td>29.50</td>\n",
       "      <td>4761.904762</td>\n",
       "      <td>464.0</td>\n",
       "    </tr>\n",
       "    <tr>\n",
       "      <th>191</th>\n",
       "      <td>Jeenathan Williams</td>\n",
       "      <td>23</td>\n",
       "      <td>POR</td>\n",
       "      <td>36.58</td>\n",
       "      <td>656.047356</td>\n",
       "      <td>601.0</td>\n",
       "    </tr>\n",
       "    <tr>\n",
       "      <th>506</th>\n",
       "      <td>Justin Minaya</td>\n",
       "      <td>23</td>\n",
       "      <td>POR</td>\n",
       "      <td>18.86</td>\n",
       "      <td>507.369638</td>\n",
       "      <td>185.0</td>\n",
       "    </tr>\n",
       "    <tr>\n",
       "      <th>105</th>\n",
       "      <td>Skylar Mays</td>\n",
       "      <td>25</td>\n",
       "      <td>POR</td>\n",
       "      <td>52.70</td>\n",
       "      <td>426.824468</td>\n",
       "      <td>782.0</td>\n",
       "    </tr>\n",
       "    <tr>\n",
       "      <th>149</th>\n",
       "      <td>Mac McClung</td>\n",
       "      <td>24</td>\n",
       "      <td>PHI</td>\n",
       "      <td>45.30</td>\n",
       "      <td>265.889588</td>\n",
       "      <td>698.0</td>\n",
       "    </tr>\n",
       "    <tr>\n",
       "      <th>62</th>\n",
       "      <td>Louis King</td>\n",
       "      <td>23</td>\n",
       "      <td>PHI</td>\n",
       "      <td>53.10</td>\n",
       "      <td>163.256562</td>\n",
       "      <td>763.0</td>\n",
       "    </tr>\n",
       "    <tr>\n",
       "      <th>574</th>\n",
       "      <td>Jamaree Bouyea</td>\n",
       "      <td>23</td>\n",
       "      <td>MIA</td>\n",
       "      <td>17.66</td>\n",
       "      <td>142.527020</td>\n",
       "      <td>149.0</td>\n",
       "    </tr>\n",
       "    <tr>\n",
       "      <th>228</th>\n",
       "      <td>Julian Champagnie</td>\n",
       "      <td>21</td>\n",
       "      <td>SAS</td>\n",
       "      <td>33.98</td>\n",
       "      <td>63.043308</td>\n",
       "      <td>495.0</td>\n",
       "    </tr>\n",
       "    <tr>\n",
       "      <th>226</th>\n",
       "      <td>Julian Champagnie</td>\n",
       "      <td>21</td>\n",
       "      <td>2TM</td>\n",
       "      <td>31.26</td>\n",
       "      <td>57.996875</td>\n",
       "      <td>435.0</td>\n",
       "    </tr>\n",
       "    <tr>\n",
       "      <th>215</th>\n",
       "      <td>Luka Šamanić</td>\n",
       "      <td>23</td>\n",
       "      <td>UTA</td>\n",
       "      <td>32.20</td>\n",
       "      <td>56.475251</td>\n",
       "      <td>448.0</td>\n",
       "    </tr>\n",
       "    <tr>\n",
       "      <th>358</th>\n",
       "      <td>Anthony Lamb</td>\n",
       "      <td>25</td>\n",
       "      <td>GSW</td>\n",
       "      <td>26.76</td>\n",
       "      <td>36.359503</td>\n",
       "      <td>314.0</td>\n",
       "    </tr>\n",
       "    <tr>\n",
       "      <th>402</th>\n",
       "      <td>Sandro Mamukelashvili</td>\n",
       "      <td>23</td>\n",
       "      <td>SAS</td>\n",
       "      <td>40.96</td>\n",
       "      <td>34.649148</td>\n",
       "      <td>555.0</td>\n",
       "    </tr>\n",
       "    <tr>\n",
       "      <th>716</th>\n",
       "      <td>Austin Reaves</td>\n",
       "      <td>24</td>\n",
       "      <td>LAL</td>\n",
       "      <td>48.74</td>\n",
       "      <td>29.432221</td>\n",
       "      <td>620.0</td>\n",
       "    </tr>\n",
       "    <tr>\n",
       "      <th>334</th>\n",
       "      <td>Eugene Omoruyi</td>\n",
       "      <td>25</td>\n",
       "      <td>DET</td>\n",
       "      <td>29.98</td>\n",
       "      <td>27.939045</td>\n",
       "      <td>375.0</td>\n",
       "    </tr>\n",
       "  </tbody>\n",
       "</table>\n",
       "</div>"
      ],
      "text/plain": [
       "                    PLAYER  AGE TEAM  Performance_Score  PS_per_Million  \\\n",
       "94            RaiQuan Gray   23  BRK              55.50     8958.837772   \n",
       "581          Jacob Gilyard   24  MEM              29.50     4761.904762   \n",
       "191     Jeenathan Williams   23  POR              36.58      656.047356   \n",
       "506          Justin Minaya   23  POR              18.86      507.369638   \n",
       "105            Skylar Mays   25  POR              52.70      426.824468   \n",
       "149            Mac McClung   24  PHI              45.30      265.889588   \n",
       "62              Louis King   23  PHI              53.10      163.256562   \n",
       "574         Jamaree Bouyea   23  MIA              17.66      142.527020   \n",
       "228      Julian Champagnie   21  SAS              33.98       63.043308   \n",
       "226      Julian Champagnie   21  2TM              31.26       57.996875   \n",
       "215           Luka Šamanić   23  UTA              32.20       56.475251   \n",
       "358           Anthony Lamb   25  GSW              26.76       36.359503   \n",
       "402  Sandro Mamukelashvili   23  SAS              40.96       34.649148   \n",
       "716          Austin Reaves   24  LAL              48.74       29.432221   \n",
       "334         Eugene Omoruyi   25  DET              29.98       27.939045   \n",
       "\n",
       "     Rank_Gap  \n",
       "94      818.0  \n",
       "581     464.0  \n",
       "191     601.0  \n",
       "506     185.0  \n",
       "105     782.0  \n",
       "149     698.0  \n",
       "62      763.0  \n",
       "574     149.0  \n",
       "228     495.0  \n",
       "226     435.0  \n",
       "215     448.0  \n",
       "358     314.0  \n",
       "402     555.0  \n",
       "716     620.0  \n",
       "334     375.0  "
      ]
     },
     "metadata": {},
     "output_type": "display_data"
    }
   ],
   "source": [
    "# ==============================================================================\n",
    "# Cell 7: Generate and Display the \"Future Pillars Watchlist\"\n",
    "# ==============================================================================\n",
    "if df is not None:\n",
    "    print(\"Generating 'Future Pillars Watchlist'...\")\n",
    "\n",
    "    # Filter for players under 26 who have played significant minutes (> 15 MPG)\n",
    "    young_players_df = df[(df['AGE'] < 26) & (df['MP'] > 15)].copy()\n",
    "\n",
    "    # Sort by the value metric to find the most efficient young players\n",
    "    future_pillars_watchlist = young_players_df.sort_values(by='PS_per_Million', ascending=False)\n",
    "\n",
    "    # --- Display Table 2: Top 15 Future Pillar Candidates ---\n",
    "    print(\"\\n--- Top 15 Future Pillar Candidates (Under 26, >15 MPG) ---\")\n",
    "    display(future_pillars_watchlist[['PLAYER', 'AGE', 'TEAM', 'Performance_Score', 'PS_per_Million', 'Rank_Gap']].head(15))"
   ]
  },
  {
   "cell_type": "markdown",
   "id": "f048252a-efea-4a88-9f58-588b23f2f332",
   "metadata": {},
   "source": [
    "### Key Findings from Discover Phase\n",
    "\n",
    "\n",
    "Here is a summary of my initial data exploration and charts:\n",
    "\n",
    "1.  **Age vs. Performance Score Chart:** My analysis shows that raw on-court performance (`Performance Score`) tends to peak for players between the ages of **25 and 28**. There's a wide distribution, but the highest concentration of elite performers falls within this window. Performance generally declines for players older than **32**.\n",
    "\n",
    "2.  **Age vs. Value (PS/$M) Chart:** The story for *value* is completely different. The chart clearly shows that the highest value players—those who deliver the most performance for their salary—are almost all **under the age of 25**. There are several extreme outliers in the 23-24 age range who provide immense value (`PS/$M` > 4,000), while value drops off dramatically after age 26. This suggests a critical strategic window for identifying and securing talent *before* they reach their peak performance and command a maximum salary.\n",
    "\n",
    "3.  **Future Pillars Watchlist:** My initial list of the top 15 most valuable players under 26 reveals several interesting candidates. The list is populated with players on smaller, likely rookie-scale or two-way contracts (e.g., RaiQuan Gray, Jacob Gilyard, Jeenathan Williams). A key finding is the presence of **Austin Reaves** at #14. He is a known, high-quality rotation player for a major market team, which validates that our `PS/$M` metric is effective at identifying legitimate talent, not just statistical noise from low-minute players."
   ]
  },
  {
   "cell_type": "markdown",
   "id": "503c096a-d77c-4dee-b221-534fe24e409c",
   "metadata": {},
   "source": [
    "## Part B: INVESTIGATE - Probing Deeper into Value and Risk\n",
    "\n",
    "**Goal:** To understand the \"why\" behind the signals found in the Discover phase by analyzing player durability, role significance, and positional value to separate legitimate strategic targets from statistical noise.\n",
    "\n",
    "**Key Questions:**\n",
    "\n",
    "1. For the \"Future Pillars Watchlist,\" is their high value (PS/$M) supported by significant on-court roles (MP) and durability (G), or is it an anomaly of a small contract?\n",
    "\n",
    "2. For high-cost veterans, does their large Rank Gap correspond with low durability (G), indicating compounded risk from both underperformance and injury potential?\n",
    "\n",
    "3. How does the value landscape change when segmented by position, and who are the most undervalued players within each role (Guard, Forward, Center)?\n",
    "\n",
    "**Methodology & Analysis:**\n",
    "\n",
    "* **Durability & Role Analysis:**\n",
    "    * For the \"Future Pillars Watchlist,\" analyze their MP (Minutes Played) and G (Games Played) to assess if their role is substantial enough to be considered a core asset.\n",
    "    * For the \"High-Risk Veterans\" list, examine their G to identify players whose performance risk is magnified by availability issues.\n",
    "\n",
    "* **Positional Deep-Dive:**\n",
    "\n",
    "    * Group players into three core roles: Guard, Forward, and Center.\n",
    "    * Calculate the median `PS/$M` and `Rank Gap` for each group to establish a positional value baseline.\n",
    "    * Identify the top 5 most undervalued players (lowest Rank Gap) within each position group to create a \"Bargain Watchlist.\"\n",
    "\n",
    "* **Hypothesis Formation:** Based on the investigation, formulate specific, testable hypotheses that will be challenged in the Validate phase. For example: \"Players aged 24-26 with a `PS/$M` in the top quartile represent optimal extension targets,\" and \"Centers over 32 with salaries above $20M present the highest risk.\""
   ]
  },
  {
   "cell_type": "markdown",
   "id": "e094cfdd-e7e2-4570-adbf-312ec68db578",
   "metadata": {},
   "source": [
    "### Gemini Prompt: Investigate\n",
    "\"In my analysis, I've identified a pattern: players aged 24-26 seem to offer the best value. I've also created a 'Future Pillars Watchlist' of promising young players.\n",
    "\n",
    "Now, help me investigate the 'why':\n",
    "1. What are the 3 most likely business or performance factors that explain this pattern?\n",
    "2. For the players on my watchlist, what specific data points (e.g., year-over-year performance trends, minutes played, injury history) should I analyze to determine if their high value is sustainable?\n",
    "3. How can I formulate a testable hypothesis about identifying optimal contract extension targets?\""
   ]
  },
  {
   "cell_type": "code",
   "execution_count": 8,
   "id": "468e5493-e268-4015-a697-5fa568885545",
   "metadata": {},
   "outputs": [
    {
     "name": "stdout",
     "output_type": "stream",
     "text": [
      "\n",
      "--- INVESTIGATION 2: Identifying potential high-risk veteran contracts ---\n",
      "\n",
      "--- Potential High-Risk Veterans (Age > 30 & Salary > $12,134,971.13) ---\n"
     ]
    },
    {
     "data": {
      "text/html": [
       "<div>\n",
       "<style scoped>\n",
       "    .dataframe tbody tr th:only-of-type {\n",
       "        vertical-align: middle;\n",
       "    }\n",
       "\n",
       "    .dataframe tbody tr th {\n",
       "        vertical-align: top;\n",
       "    }\n",
       "\n",
       "    .dataframe thead th {\n",
       "        text-align: right;\n",
       "    }\n",
       "</style>\n",
       "<table border=\"1\" class=\"dataframe\">\n",
       "  <thead>\n",
       "    <tr style=\"text-align: right;\">\n",
       "      <th></th>\n",
       "      <th>PLAYER</th>\n",
       "      <th>AGE</th>\n",
       "      <th>TEAM</th>\n",
       "      <th>SALARY_ADJUSTED</th>\n",
       "      <th>Performance_Score</th>\n",
       "      <th>Rank_Gap</th>\n",
       "    </tr>\n",
       "  </thead>\n",
       "  <tbody>\n",
       "    <tr>\n",
       "      <th>708</th>\n",
       "      <td>Brook Lopez</td>\n",
       "      <td>34</td>\n",
       "      <td>MIL</td>\n",
       "      <td>14729646.15</td>\n",
       "      <td>54.08</td>\n",
       "      <td>96.0</td>\n",
       "    </tr>\n",
       "    <tr>\n",
       "      <th>95</th>\n",
       "      <td>Brook Lopez</td>\n",
       "      <td>34</td>\n",
       "      <td>MIL</td>\n",
       "      <td>14729646.15</td>\n",
       "      <td>50.88</td>\n",
       "      <td>61.0</td>\n",
       "    </tr>\n",
       "    <tr>\n",
       "      <th>78</th>\n",
       "      <td>Nikola Vučević</td>\n",
       "      <td>32</td>\n",
       "      <td>CHI</td>\n",
       "      <td>23301414.73</td>\n",
       "      <td>58.30</td>\n",
       "      <td>40.0</td>\n",
       "    </tr>\n",
       "    <tr>\n",
       "      <th>27</th>\n",
       "      <td>DeMar DeRozan</td>\n",
       "      <td>33</td>\n",
       "      <td>CHI</td>\n",
       "      <td>28914937.37</td>\n",
       "      <td>62.54</td>\n",
       "      <td>37.0</td>\n",
       "    </tr>\n",
       "    <tr>\n",
       "      <th>46</th>\n",
       "      <td>James Harden</td>\n",
       "      <td>33</td>\n",
       "      <td>PHI</td>\n",
       "      <td>34952122.09</td>\n",
       "      <td>67.26</td>\n",
       "      <td>20.0</td>\n",
       "    </tr>\n",
       "    <tr>\n",
       "      <th>40</th>\n",
       "      <td>Bojan Bogdanović</td>\n",
       "      <td>33</td>\n",
       "      <td>DET</td>\n",
       "      <td>20706484.45</td>\n",
       "      <td>51.92</td>\n",
       "      <td>16.0</td>\n",
       "    </tr>\n",
       "    <tr>\n",
       "      <th>679</th>\n",
       "      <td>Kawhi Leonard</td>\n",
       "      <td>31</td>\n",
       "      <td>LAC</td>\n",
       "      <td>45006144.50</td>\n",
       "      <td>85.40</td>\n",
       "      <td>11.0</td>\n",
       "    </tr>\n",
       "    <tr>\n",
       "      <th>689</th>\n",
       "      <td>Jimmy Butler</td>\n",
       "      <td>33</td>\n",
       "      <td>MIA</td>\n",
       "      <td>39880689.05</td>\n",
       "      <td>71.84</td>\n",
       "      <td>10.0</td>\n",
       "    </tr>\n",
       "    <tr>\n",
       "      <th>150</th>\n",
       "      <td>Kelly Olynyk</td>\n",
       "      <td>31</td>\n",
       "      <td>UTA</td>\n",
       "      <td>13562353.31</td>\n",
       "      <td>43.02</td>\n",
       "      <td>9.0</td>\n",
       "    </tr>\n",
       "    <tr>\n",
       "      <th>2</th>\n",
       "      <td>Damian Lillard</td>\n",
       "      <td>32</td>\n",
       "      <td>POR</td>\n",
       "      <td>45006144.50</td>\n",
       "      <td>78.56</td>\n",
       "      <td>6.0</td>\n",
       "    </tr>\n",
       "  </tbody>\n",
       "</table>\n",
       "</div>"
      ],
      "text/plain": [
       "               PLAYER  AGE TEAM  SALARY_ADJUSTED  Performance_Score  Rank_Gap\n",
       "708       Brook Lopez   34  MIL      14729646.15              54.08      96.0\n",
       "95        Brook Lopez   34  MIL      14729646.15              50.88      61.0\n",
       "78     Nikola Vučević   32  CHI      23301414.73              58.30      40.0\n",
       "27      DeMar DeRozan   33  CHI      28914937.37              62.54      37.0\n",
       "46       James Harden   33  PHI      34952122.09              67.26      20.0\n",
       "40   Bojan Bogdanović   33  DET      20706484.45              51.92      16.0\n",
       "679     Kawhi Leonard   31  LAC      45006144.50              85.40      11.0\n",
       "689      Jimmy Butler   33  MIA      39880689.05              71.84      10.0\n",
       "150      Kelly Olynyk   31  UTA      13562353.31              43.02       9.0\n",
       "2      Damian Lillard   32  POR      45006144.50              78.56       6.0"
      ]
     },
     "metadata": {},
     "output_type": "display_data"
    }
   ],
   "source": [
    "# ==============================================================================\n",
    "# Cell 8: Investigation - High-Risk Veteran Contracts\n",
    "# ==============================================================================\n",
    "if 'df' in locals():\n",
    "    print(\"\\n--- INVESTIGATION 2: Identifying potential high-risk veteran contracts ---\")\n",
    "    \n",
    "    # Define \"high-cost\" as the top 25% of salaries and \"veteran\" as age > 30\n",
    "    high_salary_threshold = df['SALARY_ADJUSTED'].quantile(0.75)\n",
    "    high_cost_veterans_df = df[(df['AGE'] > 30) & (df['SALARY_ADJUSTED'] >= high_salary_threshold)].copy()\n",
    "    \n",
    "    # Sort by Rank_Gap to find players whose salary rank most exceeds their performance rank\n",
    "    risky_veterans = high_cost_veterans_df.sort_values(by='Rank_Gap', ascending=False)\n",
    "    \n",
    "    # --- Display Table 4: Potential High-Risk Veteran Contracts ---\n",
    "    print(f\"\\n--- Potential High-Risk Veterans (Age > 30 & Salary > ${high_salary_threshold:,.2f}) ---\")\n",
    "    # INSIGHT: Players at the top of this list are being paid like stars but performing below that level.\n",
    "    display(risky_veterans[['PLAYER', 'AGE', 'TEAM', 'SALARY_ADJUSTED', 'Performance_Score', 'Rank_Gap']].head(10))"
   ]
  },
  {
   "cell_type": "code",
   "execution_count": 9,
   "id": "ba3579fa-f3dc-4511-bef4-c6dd8d68c7c1",
   "metadata": {},
   "outputs": [
    {
     "name": "stdout",
     "output_type": "stream",
     "text": [
      "\n",
      "--- INVESTIGATION 3: Analyzing value by player position ---\n",
      "\n",
      "--- Median Value by Position ---\n"
     ]
    },
    {
     "data": {
      "text/html": [
       "<div>\n",
       "<style scoped>\n",
       "    .dataframe tbody tr th:only-of-type {\n",
       "        vertical-align: middle;\n",
       "    }\n",
       "\n",
       "    .dataframe tbody tr th {\n",
       "        vertical-align: top;\n",
       "    }\n",
       "\n",
       "    .dataframe thead th {\n",
       "        text-align: right;\n",
       "    }\n",
       "</style>\n",
       "<table border=\"1\" class=\"dataframe\">\n",
       "  <thead>\n",
       "    <tr style=\"text-align: right;\">\n",
       "      <th></th>\n",
       "      <th>POS_Primary</th>\n",
       "      <th>Median_PS_per_Million</th>\n",
       "      <th>Median_Performance_Score</th>\n",
       "      <th>Player_Count</th>\n",
       "    </tr>\n",
       "  </thead>\n",
       "  <tbody>\n",
       "    <tr>\n",
       "      <th>0</th>\n",
       "      <td>C</td>\n",
       "      <td>5.799941</td>\n",
       "      <td>31.22</td>\n",
       "      <td>182</td>\n",
       "    </tr>\n",
       "    <tr>\n",
       "      <th>3</th>\n",
       "      <td>SF</td>\n",
       "      <td>5.651699</td>\n",
       "      <td>26.38</td>\n",
       "      <td>179</td>\n",
       "    </tr>\n",
       "    <tr>\n",
       "      <th>4</th>\n",
       "      <td>SG</td>\n",
       "      <td>5.021841</td>\n",
       "      <td>27.12</td>\n",
       "      <td>217</td>\n",
       "    </tr>\n",
       "    <tr>\n",
       "      <th>1</th>\n",
       "      <td>PF</td>\n",
       "      <td>4.936780</td>\n",
       "      <td>29.63</td>\n",
       "      <td>164</td>\n",
       "    </tr>\n",
       "    <tr>\n",
       "      <th>2</th>\n",
       "      <td>PG</td>\n",
       "      <td>4.021859</td>\n",
       "      <td>30.40</td>\n",
       "      <td>154</td>\n",
       "    </tr>\n",
       "  </tbody>\n",
       "</table>\n",
       "</div>"
      ],
      "text/plain": [
       "  POS_Primary  Median_PS_per_Million  Median_Performance_Score  Player_Count\n",
       "0           C               5.799941                     31.22           182\n",
       "3          SF               5.651699                     26.38           179\n",
       "4          SG               5.021841                     27.12           217\n",
       "1          PF               4.936780                     29.63           164\n",
       "2          PG               4.021859                     30.40           154"
      ]
     },
     "metadata": {},
     "output_type": "display_data"
    }
   ],
   "source": [
    "# ==============================================================================\n",
    "# Cell 9: Investigation - Positional Value Analysis\n",
    "# ==============================================================================\n",
    "if 'df' in locals():\n",
    "    print(\"\\n--- INVESTIGATION 3: Analyzing value by player position ---\")\n",
    "    \n",
    "    # Clean up the 'POS' column to handle multi-position players (e.g., 'SF-SG' -> 'SF')\n",
    "    df['POS_Primary'] = df['POS'].apply(lambda x: str(x).split('-')[0])\n",
    "\n",
    "    # Calculate the median value and performance for each primary position\n",
    "    positional_analysis = df.groupby('POS_Primary').agg(\n",
    "        Median_Performance_Score=('Performance_Score', 'median'),\n",
    "        Median_PS_per_Million=('PS_per_Million', 'median'),\n",
    "        Player_Count=('PLAYER', 'count')\n",
    "    ).reset_index()\n",
    "\n",
    "    # Filter out positions with very few players and sort by value\n",
    "    positional_analysis = positional_analysis[positional_analysis['Player_Count'] > 5]\n",
    "    positional_analysis = positional_analysis.sort_values(by='Median_PS_per_Million', ascending=False)\n",
    "\n",
    "    # --- Display Table 5: Median Value by Position ---\n",
    "    print(\"\\n--- Median Value by Position ---\")\n",
    "    display(positional_analysis[['POS_Primary', 'Median_PS_per_Million', 'Median_Performance_Score', 'Player_Count']])"
   ]
  },
  {
   "cell_type": "code",
   "execution_count": 10,
   "id": "17acf60c-9a08-4887-87e0-3be9ef7d6e5a",
   "metadata": {},
   "outputs": [
    {
     "name": "stdout",
     "output_type": "stream",
     "text": [
      "\n",
      "--- Visualizing Positional Value ---\n"
     ]
    },
    {
     "data": {
      "application/vnd.plotly.v1+json": {
       "config": {
        "plotlyServerURL": "https://plot.ly"
       },
       "data": [
        {
         "hovertemplate": "Player Position=%{x}<br>Median Performance Score per $1M=%{y}<extra></extra>",
         "legendgroup": "",
         "marker": {
          "color": "#636efa",
          "pattern": {
           "shape": ""
          }
         },
         "name": "",
         "orientation": "v",
         "showlegend": false,
         "textposition": "auto",
         "type": "bar",
         "x": [
          "C",
          "SF",
          "SG",
          "PF",
          "PG"
         ],
         "xaxis": "x",
         "y": {
          "bdata": "RqqAyiMzF0BXr2YDV5sWQNBAQIJdFhRAjT7rXkO/E0AZp9QZYhYQQA==",
          "dtype": "f8"
         },
         "yaxis": "y"
        }
       ],
       "layout": {
        "barmode": "relative",
        "legend": {
         "tracegroupgap": 0
        },
        "template": {
         "data": {
          "bar": [
           {
            "error_x": {
             "color": "#2a3f5f"
            },
            "error_y": {
             "color": "#2a3f5f"
            },
            "marker": {
             "line": {
              "color": "white",
              "width": 0.5
             },
             "pattern": {
              "fillmode": "overlay",
              "size": 10,
              "solidity": 0.2
             }
            },
            "type": "bar"
           }
          ],
          "barpolar": [
           {
            "marker": {
             "line": {
              "color": "white",
              "width": 0.5
             },
             "pattern": {
              "fillmode": "overlay",
              "size": 10,
              "solidity": 0.2
             }
            },
            "type": "barpolar"
           }
          ],
          "carpet": [
           {
            "aaxis": {
             "endlinecolor": "#2a3f5f",
             "gridcolor": "#C8D4E3",
             "linecolor": "#C8D4E3",
             "minorgridcolor": "#C8D4E3",
             "startlinecolor": "#2a3f5f"
            },
            "baxis": {
             "endlinecolor": "#2a3f5f",
             "gridcolor": "#C8D4E3",
             "linecolor": "#C8D4E3",
             "minorgridcolor": "#C8D4E3",
             "startlinecolor": "#2a3f5f"
            },
            "type": "carpet"
           }
          ],
          "choropleth": [
           {
            "colorbar": {
             "outlinewidth": 0,
             "ticks": ""
            },
            "type": "choropleth"
           }
          ],
          "contour": [
           {
            "colorbar": {
             "outlinewidth": 0,
             "ticks": ""
            },
            "colorscale": [
             [
              0,
              "#0d0887"
             ],
             [
              0.1111111111111111,
              "#46039f"
             ],
             [
              0.2222222222222222,
              "#7201a8"
             ],
             [
              0.3333333333333333,
              "#9c179e"
             ],
             [
              0.4444444444444444,
              "#bd3786"
             ],
             [
              0.5555555555555556,
              "#d8576b"
             ],
             [
              0.6666666666666666,
              "#ed7953"
             ],
             [
              0.7777777777777778,
              "#fb9f3a"
             ],
             [
              0.8888888888888888,
              "#fdca26"
             ],
             [
              1,
              "#f0f921"
             ]
            ],
            "type": "contour"
           }
          ],
          "contourcarpet": [
           {
            "colorbar": {
             "outlinewidth": 0,
             "ticks": ""
            },
            "type": "contourcarpet"
           }
          ],
          "heatmap": [
           {
            "colorbar": {
             "outlinewidth": 0,
             "ticks": ""
            },
            "colorscale": [
             [
              0,
              "#0d0887"
             ],
             [
              0.1111111111111111,
              "#46039f"
             ],
             [
              0.2222222222222222,
              "#7201a8"
             ],
             [
              0.3333333333333333,
              "#9c179e"
             ],
             [
              0.4444444444444444,
              "#bd3786"
             ],
             [
              0.5555555555555556,
              "#d8576b"
             ],
             [
              0.6666666666666666,
              "#ed7953"
             ],
             [
              0.7777777777777778,
              "#fb9f3a"
             ],
             [
              0.8888888888888888,
              "#fdca26"
             ],
             [
              1,
              "#f0f921"
             ]
            ],
            "type": "heatmap"
           }
          ],
          "histogram": [
           {
            "marker": {
             "pattern": {
              "fillmode": "overlay",
              "size": 10,
              "solidity": 0.2
             }
            },
            "type": "histogram"
           }
          ],
          "histogram2d": [
           {
            "colorbar": {
             "outlinewidth": 0,
             "ticks": ""
            },
            "colorscale": [
             [
              0,
              "#0d0887"
             ],
             [
              0.1111111111111111,
              "#46039f"
             ],
             [
              0.2222222222222222,
              "#7201a8"
             ],
             [
              0.3333333333333333,
              "#9c179e"
             ],
             [
              0.4444444444444444,
              "#bd3786"
             ],
             [
              0.5555555555555556,
              "#d8576b"
             ],
             [
              0.6666666666666666,
              "#ed7953"
             ],
             [
              0.7777777777777778,
              "#fb9f3a"
             ],
             [
              0.8888888888888888,
              "#fdca26"
             ],
             [
              1,
              "#f0f921"
             ]
            ],
            "type": "histogram2d"
           }
          ],
          "histogram2dcontour": [
           {
            "colorbar": {
             "outlinewidth": 0,
             "ticks": ""
            },
            "colorscale": [
             [
              0,
              "#0d0887"
             ],
             [
              0.1111111111111111,
              "#46039f"
             ],
             [
              0.2222222222222222,
              "#7201a8"
             ],
             [
              0.3333333333333333,
              "#9c179e"
             ],
             [
              0.4444444444444444,
              "#bd3786"
             ],
             [
              0.5555555555555556,
              "#d8576b"
             ],
             [
              0.6666666666666666,
              "#ed7953"
             ],
             [
              0.7777777777777778,
              "#fb9f3a"
             ],
             [
              0.8888888888888888,
              "#fdca26"
             ],
             [
              1,
              "#f0f921"
             ]
            ],
            "type": "histogram2dcontour"
           }
          ],
          "mesh3d": [
           {
            "colorbar": {
             "outlinewidth": 0,
             "ticks": ""
            },
            "type": "mesh3d"
           }
          ],
          "parcoords": [
           {
            "line": {
             "colorbar": {
              "outlinewidth": 0,
              "ticks": ""
             }
            },
            "type": "parcoords"
           }
          ],
          "pie": [
           {
            "automargin": true,
            "type": "pie"
           }
          ],
          "scatter": [
           {
            "fillpattern": {
             "fillmode": "overlay",
             "size": 10,
             "solidity": 0.2
            },
            "type": "scatter"
           }
          ],
          "scatter3d": [
           {
            "line": {
             "colorbar": {
              "outlinewidth": 0,
              "ticks": ""
             }
            },
            "marker": {
             "colorbar": {
              "outlinewidth": 0,
              "ticks": ""
             }
            },
            "type": "scatter3d"
           }
          ],
          "scattercarpet": [
           {
            "marker": {
             "colorbar": {
              "outlinewidth": 0,
              "ticks": ""
             }
            },
            "type": "scattercarpet"
           }
          ],
          "scattergeo": [
           {
            "marker": {
             "colorbar": {
              "outlinewidth": 0,
              "ticks": ""
             }
            },
            "type": "scattergeo"
           }
          ],
          "scattergl": [
           {
            "marker": {
             "colorbar": {
              "outlinewidth": 0,
              "ticks": ""
             }
            },
            "type": "scattergl"
           }
          ],
          "scattermap": [
           {
            "marker": {
             "colorbar": {
              "outlinewidth": 0,
              "ticks": ""
             }
            },
            "type": "scattermap"
           }
          ],
          "scattermapbox": [
           {
            "marker": {
             "colorbar": {
              "outlinewidth": 0,
              "ticks": ""
             }
            },
            "type": "scattermapbox"
           }
          ],
          "scatterpolar": [
           {
            "marker": {
             "colorbar": {
              "outlinewidth": 0,
              "ticks": ""
             }
            },
            "type": "scatterpolar"
           }
          ],
          "scatterpolargl": [
           {
            "marker": {
             "colorbar": {
              "outlinewidth": 0,
              "ticks": ""
             }
            },
            "type": "scatterpolargl"
           }
          ],
          "scatterternary": [
           {
            "marker": {
             "colorbar": {
              "outlinewidth": 0,
              "ticks": ""
             }
            },
            "type": "scatterternary"
           }
          ],
          "surface": [
           {
            "colorbar": {
             "outlinewidth": 0,
             "ticks": ""
            },
            "colorscale": [
             [
              0,
              "#0d0887"
             ],
             [
              0.1111111111111111,
              "#46039f"
             ],
             [
              0.2222222222222222,
              "#7201a8"
             ],
             [
              0.3333333333333333,
              "#9c179e"
             ],
             [
              0.4444444444444444,
              "#bd3786"
             ],
             [
              0.5555555555555556,
              "#d8576b"
             ],
             [
              0.6666666666666666,
              "#ed7953"
             ],
             [
              0.7777777777777778,
              "#fb9f3a"
             ],
             [
              0.8888888888888888,
              "#fdca26"
             ],
             [
              1,
              "#f0f921"
             ]
            ],
            "type": "surface"
           }
          ],
          "table": [
           {
            "cells": {
             "fill": {
              "color": "#EBF0F8"
             },
             "line": {
              "color": "white"
             }
            },
            "header": {
             "fill": {
              "color": "#C8D4E3"
             },
             "line": {
              "color": "white"
             }
            },
            "type": "table"
           }
          ]
         },
         "layout": {
          "annotationdefaults": {
           "arrowcolor": "#2a3f5f",
           "arrowhead": 0,
           "arrowwidth": 1
          },
          "autotypenumbers": "strict",
          "coloraxis": {
           "colorbar": {
            "outlinewidth": 0,
            "ticks": ""
           }
          },
          "colorscale": {
           "diverging": [
            [
             0,
             "#8e0152"
            ],
            [
             0.1,
             "#c51b7d"
            ],
            [
             0.2,
             "#de77ae"
            ],
            [
             0.3,
             "#f1b6da"
            ],
            [
             0.4,
             "#fde0ef"
            ],
            [
             0.5,
             "#f7f7f7"
            ],
            [
             0.6,
             "#e6f5d0"
            ],
            [
             0.7,
             "#b8e186"
            ],
            [
             0.8,
             "#7fbc41"
            ],
            [
             0.9,
             "#4d9221"
            ],
            [
             1,
             "#276419"
            ]
           ],
           "sequential": [
            [
             0,
             "#0d0887"
            ],
            [
             0.1111111111111111,
             "#46039f"
            ],
            [
             0.2222222222222222,
             "#7201a8"
            ],
            [
             0.3333333333333333,
             "#9c179e"
            ],
            [
             0.4444444444444444,
             "#bd3786"
            ],
            [
             0.5555555555555556,
             "#d8576b"
            ],
            [
             0.6666666666666666,
             "#ed7953"
            ],
            [
             0.7777777777777778,
             "#fb9f3a"
            ],
            [
             0.8888888888888888,
             "#fdca26"
            ],
            [
             1,
             "#f0f921"
            ]
           ],
           "sequentialminus": [
            [
             0,
             "#0d0887"
            ],
            [
             0.1111111111111111,
             "#46039f"
            ],
            [
             0.2222222222222222,
             "#7201a8"
            ],
            [
             0.3333333333333333,
             "#9c179e"
            ],
            [
             0.4444444444444444,
             "#bd3786"
            ],
            [
             0.5555555555555556,
             "#d8576b"
            ],
            [
             0.6666666666666666,
             "#ed7953"
            ],
            [
             0.7777777777777778,
             "#fb9f3a"
            ],
            [
             0.8888888888888888,
             "#fdca26"
            ],
            [
             1,
             "#f0f921"
            ]
           ]
          },
          "colorway": [
           "#636efa",
           "#EF553B",
           "#00cc96",
           "#ab63fa",
           "#FFA15A",
           "#19d3f3",
           "#FF6692",
           "#B6E880",
           "#FF97FF",
           "#FECB52"
          ],
          "font": {
           "color": "#2a3f5f"
          },
          "geo": {
           "bgcolor": "white",
           "lakecolor": "white",
           "landcolor": "white",
           "showlakes": true,
           "showland": true,
           "subunitcolor": "#C8D4E3"
          },
          "hoverlabel": {
           "align": "left"
          },
          "hovermode": "closest",
          "mapbox": {
           "style": "light"
          },
          "paper_bgcolor": "white",
          "plot_bgcolor": "white",
          "polar": {
           "angularaxis": {
            "gridcolor": "#EBF0F8",
            "linecolor": "#EBF0F8",
            "ticks": ""
           },
           "bgcolor": "white",
           "radialaxis": {
            "gridcolor": "#EBF0F8",
            "linecolor": "#EBF0F8",
            "ticks": ""
           }
          },
          "scene": {
           "xaxis": {
            "backgroundcolor": "white",
            "gridcolor": "#DFE8F3",
            "gridwidth": 2,
            "linecolor": "#EBF0F8",
            "showbackground": true,
            "ticks": "",
            "zerolinecolor": "#EBF0F8"
           },
           "yaxis": {
            "backgroundcolor": "white",
            "gridcolor": "#DFE8F3",
            "gridwidth": 2,
            "linecolor": "#EBF0F8",
            "showbackground": true,
            "ticks": "",
            "zerolinecolor": "#EBF0F8"
           },
           "zaxis": {
            "backgroundcolor": "white",
            "gridcolor": "#DFE8F3",
            "gridwidth": 2,
            "linecolor": "#EBF0F8",
            "showbackground": true,
            "ticks": "",
            "zerolinecolor": "#EBF0F8"
           }
          },
          "shapedefaults": {
           "line": {
            "color": "#2a3f5f"
           }
          },
          "ternary": {
           "aaxis": {
            "gridcolor": "#DFE8F3",
            "linecolor": "#A2B1C6",
            "ticks": ""
           },
           "baxis": {
            "gridcolor": "#DFE8F3",
            "linecolor": "#A2B1C6",
            "ticks": ""
           },
           "bgcolor": "white",
           "caxis": {
            "gridcolor": "#DFE8F3",
            "linecolor": "#A2B1C6",
            "ticks": ""
           }
          },
          "title": {
           "x": 0.05
          },
          "xaxis": {
           "automargin": true,
           "gridcolor": "#EBF0F8",
           "linecolor": "#EBF0F8",
           "ticks": "",
           "title": {
            "standoff": 15
           },
           "zerolinecolor": "#EBF0F8",
           "zerolinewidth": 2
          },
          "yaxis": {
           "automargin": true,
           "gridcolor": "#EBF0F8",
           "linecolor": "#EBF0F8",
           "ticks": "",
           "title": {
            "standoff": 15
           },
           "zerolinecolor": "#EBF0F8",
           "zerolinewidth": 2
          }
         }
        },
        "title": {
         "text": "Median Value (PS/$M) by Player Position"
        },
        "xaxis": {
         "anchor": "y",
         "domain": [
          0,
          1
         ],
         "title": {
          "text": "Player Position"
         }
        },
        "yaxis": {
         "anchor": "x",
         "domain": [
          0,
          1
         ],
         "title": {
          "text": "Median Performance Score per $1M"
         }
        }
       }
      }
     },
     "metadata": {},
     "output_type": "display_data"
    },
    {
     "name": "stdout",
     "output_type": "stream",
     "text": [
      "\n",
      "--- Investigation Phase Complete ---\n"
     ]
    }
   ],
   "source": [
    "# ==============================================================================\n",
    "# Cell 10: Investigation - Positional Value Chart\n",
    "# ==============================================================================\n",
    "# This cell uses the 'positional_analysis' DataFrame created in the previous cell.\n",
    "\n",
    "if 'positional_analysis' in locals():\n",
    "    print(\"\\n--- Visualizing Positional Value ---\")\n",
    "    \n",
    "    # --- Chart 3: Median Value by Position ---\n",
    "    fig_pos_value = px.bar(\n",
    "        positional_analysis,\n",
    "        x='POS_Primary',\n",
    "        y='Median_PS_per_Million',\n",
    "        title='Median Value (PS/$M) by Player Position',\n",
    "        labels={'POS_Primary': 'Player Position', 'Median_PS_per_Million': 'Median Performance Score per $1M'},\n",
    "        template='plotly_white'\n",
    "    )\n",
    "    fig_pos_value.show()\n",
    "    print(\"\\n--- Investigation Phase Complete ---\")"
   ]
  },
  {
   "cell_type": "markdown",
   "id": "d384afee-d417-4e85-8ddd-fe72f1ccb72f",
   "metadata": {},
   "source": [
    "### Insights from Investigate Phase:\n",
    "#### Investigation 1: High-Risk Veteran Contracts\n",
    "\n",
    "This analysis identifies veteran players (age 30+) in the top quartile of league salaries who may be underperforming their contracts. The key metric here is **Rank Gap**, where a large positive number is a major red flag 🚩.\n",
    "\n",
    "**Key Insights:**\n",
    "\n",
    "* **Brook Lopez (Age 34, MIL):** Lopez appears twice at the top of the list with significant **Rank Gaps (96.0 and 61.0)**. This indicates a substantial mismatch between his salary and his output as measured by your `Performance Score`. While a valuable defender, his contract appears inefficient from a purely statistical performance standpoint. He is a prime candidate for a deeper look in the **Validate** phase to see if his defensive impact justifies this gap.\n",
    "\n",
    "* **Established All-Stars:** The list includes several high-profile players like **DeMar DeRozan (CHI)**, **James Harden (PHI)**, **Kawhi Leonard (LAC)**, and **Damian Lillard (POR)**. While their performance is still high, their massive salaries (often exceeding $30-40M) mean that even a slight dip in performance creates a significant negative value gap.\n",
    "\n",
    "* **Kawhi Leonard & Damian Lillard:** These two are particularly noteworthy. They have the highest salaries on this list (over $45M) and relatively low **Rank Gaps (11.0 and 6.0)**, which means their performance is still close to their salary rank. However, their age and any potential for injury make their massive contracts a significant strategic risk for their teams moving forward.\n",
    "\n",
    "#### Investigation 2: Positional Value Analysis\n",
    "\n",
    "This table reveals the median value (`PS_per_Million`) and performance (`Performance_Score`) for each primary position group. This gives us a crucial baseline for understanding the market.\n",
    "\n",
    "**Key Insights:**\n",
    "\n",
    "* **Centers (C) Provide the Best Value:** On average, **Centers** provide the highest value, with a median `PS_per_Million` of **5.800**. This is likely because many valuable defensive and rebounding contributions from centers don't always translate into the massive salaries commanded by elite guards and forwards. Finding a high-value Center is a strategic advantage, but it's also the market expectation.\n",
    "\n",
    "* **Point Guards (PG) are the Most Expensive:** **Point Guards** have the lowest median value (`PS_per_Million` of **4.022**), despite having a high median `Performance_Score`. This indicates that the market pays a significant premium for primary ball-handlers and playmakers. An undervalued, efficient Point Guard is therefore one of the rarest and most valuable assets in the league.\n",
    "\n",
    "* **Forwards Offer a Balanced Profile:** Small Forwards (SF) and Power Forwards (PF) sit in the middle, offering a blend of solid performance and value. This suggests that the market for forwards is relatively efficient."
   ]
  },
  {
   "cell_type": "markdown",
   "id": "abef634d-d4db-43e8-a39c-1019a15f39d6",
   "metadata": {},
   "source": [
    "--- \n",
    "## Part C: VALIDATE - Stress-Testing Our Strategic Assumptions\n",
    "\n",
    "**Goal:** To rigorously challenge my own findings and assumptions to build a confident, defensible strategy. This directly addresses the feedback on my previous assignment by making assumption-checking a core part of the process."
   ]
  },
  {
   "cell_type": "markdown",
   "id": "19412fbb-ead4-43dc-9c65-fafa47c37bfb",
   "metadata": {},
   "source": [
    "### Gemini Prompt: Validate\n",
    "\"My analysis suggests that we should prioritize signing Austin Reaves to a long-term extension. My key assumptions are: 1) His performance will continue to improve or at least maintain its current level, and 2) He will remain healthy, playing over 70 games per season.\n",
    "\n",
    "Act as a skeptical 'devil's advocate' and help me validate these findings:\n",
    "1. What could invalidate my conclusions? What are the biggest risks I'm not seeing?\n",
    "2. What specific tests or sensitivity analyses should I run to check the robustness of my recommendation?\n",
    "3. How can I model a 'worst-case scenario' to understand the potential downside of this contract extension?\""
   ]
  },
  {
   "cell_type": "code",
   "execution_count": 11,
   "id": "145a2d08-e01c-479a-ae3c-8a7435604109",
   "metadata": {},
   "outputs": [
    {
     "name": "stdout",
     "output_type": "stream",
     "text": [
      "--- Validation Phase Started ---\n",
      "\n",
      "1. Assumption Test: Durability of 'Future Pillar' Austin Reaves\n",
      "Test Case: Austin Reaves\n",
      "Games Played: 64.0\n",
      "Durability Threshold (>= 70 games): 70\n",
      "Passes Durability Assumption: False\n",
      "Result: This slightly weakens the case for a max-level investment without performance/games played incentives.\n",
      "\n",
      "\n",
      "2. Sensitivity Analysis: Testing Alternative Performance Score Formulas\n",
      "\n",
      "--- Value Rank Comparison for Key Players ---\n"
     ]
    },
    {
     "data": {
      "text/html": [
       "<div>\n",
       "<style scoped>\n",
       "    .dataframe tbody tr th:only-of-type {\n",
       "        vertical-align: middle;\n",
       "    }\n",
       "\n",
       "    .dataframe tbody tr th {\n",
       "        vertical-align: top;\n",
       "    }\n",
       "\n",
       "    .dataframe thead th {\n",
       "        text-align: right;\n",
       "    }\n",
       "</style>\n",
       "<table border=\"1\" class=\"dataframe\">\n",
       "  <thead>\n",
       "    <tr style=\"text-align: right;\">\n",
       "      <th></th>\n",
       "      <th>PLAYER</th>\n",
       "      <th>Value_Rank_Original</th>\n",
       "      <th>Value_Rank_Offense</th>\n",
       "      <th>Value_Rank_Defense</th>\n",
       "    </tr>\n",
       "  </thead>\n",
       "  <tbody>\n",
       "    <tr>\n",
       "      <th>95</th>\n",
       "      <td>Brook Lopez</td>\n",
       "      <td>569.0</td>\n",
       "      <td>570.0</td>\n",
       "      <td>566.0</td>\n",
       "    </tr>\n",
       "    <tr>\n",
       "      <th>136</th>\n",
       "      <td>Austin Reaves</td>\n",
       "      <td>76.0</td>\n",
       "      <td>74.0</td>\n",
       "      <td>78.0</td>\n",
       "    </tr>\n",
       "    <tr>\n",
       "      <th>708</th>\n",
       "      <td>Brook Lopez</td>\n",
       "      <td>550.0</td>\n",
       "      <td>551.0</td>\n",
       "      <td>551.0</td>\n",
       "    </tr>\n",
       "    <tr>\n",
       "      <th>716</th>\n",
       "      <td>Austin Reaves</td>\n",
       "      <td>65.0</td>\n",
       "      <td>63.0</td>\n",
       "      <td>66.0</td>\n",
       "    </tr>\n",
       "  </tbody>\n",
       "</table>\n",
       "</div>"
      ],
      "text/plain": [
       "            PLAYER  Value_Rank_Original  Value_Rank_Offense  \\\n",
       "95     Brook Lopez                569.0               570.0   \n",
       "136  Austin Reaves                 76.0                74.0   \n",
       "708    Brook Lopez                550.0               551.0   \n",
       "716  Austin Reaves                 65.0                63.0   \n",
       "\n",
       "     Value_Rank_Defense  \n",
       "95                566.0  \n",
       "136                78.0  \n",
       "708               551.0  \n",
       "716                66.0  "
      ]
     },
     "metadata": {},
     "output_type": "display_data"
    },
    {
     "name": "stdout",
     "output_type": "stream",
     "text": [
      "\n",
      "Result: If a player remains a top-tier value regardless of the formula, our recommendation is robust.\n",
      "\n",
      "\n",
      "3. Scenario Modeling: 'Post-Contract Slump' for Austin Reaves\n",
      "Helper column 'POS_Group' created.\n",
      "\n",
      "Original Performance Score: 40.36\n",
      "Slump Performance Score (-15%): 34.31\n",
      "Original PS/$M: 24.37\n",
      "Slump PS/$M: 20.72\n",
      "Median PS/$M for Guards: 4.65\n",
      "\n",
      "Result: Even with a 15% performance drop, his value would still be above the median for his position. This is a very strong signal for a safe investment.\n",
      "\n",
      "--- Validation Phase Complete ---\n"
     ]
    }
   ],
   "source": [
    "# ===============================================================================\n",
    "# Part C: VALIDATE - Python Code\n",
    "# ===============================================================================\n",
    "# This cell assumes the DataFrame 'df' from the previous phases is available.\n",
    "\n",
    "# Ensure the DataFrame 'df' exists\n",
    "if 'df' not in locals():\n",
    "    print(\"❌ DataFrame 'df' not found. Please run the Discover & Investigate cells first.\")\n",
    "else:\n",
    "    print(\"--- Validation Phase Started ---\")\n",
    "\n",
    "    # --- 1. Assumption Testing (Durability) ---\n",
    "    print(\"\\n1. Assumption Test: Durability of 'Future Pillar' Austin Reaves\")\n",
    "    \n",
    "    # Isolate our test case\n",
    "    austin_reaves_stats = df[df['PLAYER'] == 'Austin Reaves'].iloc[0]\n",
    "    games_played = austin_reaves_stats['G']\n",
    "    durability_threshold = 70 # An 85% season is ~70 games played\n",
    "\n",
    "    is_durable = games_played >= durability_threshold\n",
    "    \n",
    "    print(f\"Test Case: Austin Reaves\")\n",
    "    print(f\"Games Played: {games_played}\")\n",
    "    print(f\"Durability Threshold (>= 70 games): {durability_threshold}\")\n",
    "    print(f\"Passes Durability Assumption: {is_durable}\")\n",
    "    if not is_durable:\n",
    "        print(\"Result: This slightly weakens the case for a max-level investment without performance/games played incentives.\")\n",
    "    else:\n",
    "        print(\"Result: The durability assumption holds, strengthening the case for a long-term investment.\")\n",
    "\n",
    "\n",
    "    # --- 2. Sensitivity Analysis (Metric Robustness) ---\n",
    "    print(\"\\n\\n2. Sensitivity Analysis: Testing Alternative Performance Score Formulas\")\n",
    "\n",
    "    # Create an offense-focused and a defense-focused score\n",
    "    df['Perf_Score_OFFENSE'] = (df['PER'] * 1.0) + (df['PTS'] * 1.2) + (df['AST'] * 1.2) + (df['REB'] * 0.8) + (df['BLK'] * 0.8) + (df['MP'] / 5)\n",
    "    df['Perf_Score_DEFENSE'] = (df['PER'] * 1.0) + (df['PTS'] * 0.8) + (df['AST'] * 0.8) + (df['REB'] * 1.2) + (df['BLK'] * 1.2) + (df['MP'] / 5)\n",
    "\n",
    "    # Recalculate PS per Million for these new scores\n",
    "    df['PS_per_Million_OFFENSE'] = df.apply(lambda row: row['Perf_Score_OFFENSE'] / (row['SALARY_ADJUSTED'] / 1_000_000) if row['SALARY_ADJUSTED'] > 0 else 0, axis=1)\n",
    "    df['PS_per_Million_DEFENSE'] = df.apply(lambda row: row['Perf_Score_DEFENSE'] / (row['SALARY_ADJUSTED'] / 1_000_000) if row['SALARY_ADJUSTED'] > 0 else 0, axis=1)\n",
    "\n",
    "    # Check how key players' VALUE ranks change\n",
    "    df['Value_Rank_Original'] = df['PS_per_Million'].rank(ascending=False)\n",
    "    df['Value_Rank_Offense'] = df['PS_per_Million_OFFENSE'].rank(ascending=False)\n",
    "    df['Value_Rank_Defense'] = df['PS_per_Million_DEFENSE'].rank(ascending=False)\n",
    "    \n",
    "    # Display the results for key players\n",
    "    validation_players_df = df[df['PLAYER'].isin(['Austin Reaves', 'Brook Lopez'])].copy()\n",
    "    print(\"\\n--- Value Rank Comparison for Key Players ---\")\n",
    "    display(validation_players_df[['PLAYER', 'Value_Rank_Original', 'Value_Rank_Offense', 'Value_Rank_Defense']])\n",
    "    print(\"\\nResult: If a player remains a top-tier value regardless of the formula, our recommendation is robust.\")\n",
    "\n",
    "\n",
    "    # --- 3. Scenario Modeling (Worst-Case Scenario) ---\n",
    "    print(\"\\n\\n3. Scenario Modeling: 'Post-Contract Slump' for Austin Reaves\")\n",
    "    \n",
    "    # ==================================================================\n",
    "    # THIS IS THE FIX: Create the 'POS_Group' column before using it.\n",
    "    # ==================================================================\n",
    "    pos_map = {\n",
    "        'PG': 'Guard', 'SG': 'Guard',\n",
    "        'SF': 'Forward', 'PF': 'Forward',\n",
    "        'C': 'Center'\n",
    "    }\n",
    "    df['POS_Group'] = df['POS_Primary'].map(pos_map)\n",
    "    print(\"Helper column 'POS_Group' created.\")\n",
    "    # ==================================================================\n",
    "    \n",
    "    original_performance = austin_reaves_stats['Performance_Score']\n",
    "    slump_performance = original_performance * 0.85 # 15% drop\n",
    "    \n",
    "    # Calculate his PS/$M in this slump scenario\n",
    "    salary_in_millions = austin_reaves_stats['SALARY_ADJUSTED'] / 1_000_000\n",
    "    slump_ps_per_million = slump_performance / salary_in_millions\n",
    "    \n",
    "    # Compare his \"slump\" value to the league's median value for his position\n",
    "    median_guard_value = df[df['POS_Group'] == 'Guard']['PS_per_Million'].median()\n",
    "\n",
    "    print(f\"\\nOriginal Performance Score: {original_performance:.2f}\")\n",
    "    print(f\"Slump Performance Score (-15%): {slump_performance:.2f}\")\n",
    "    print(f\"Original PS/$M: {austin_reaves_stats['PS_per_Million']:.2f}\")\n",
    "    print(f\"Slump PS/$M: {slump_ps_per_million:.2f}\")\n",
    "    print(f\"Median PS/$M for Guards: {median_guard_value:.2f}\")\n",
    "\n",
    "    if slump_ps_per_million >= median_guard_value:\n",
    "        print(\"\\nResult: Even with a 15% performance drop, his value would still be above the median for his position. This is a very strong signal for a safe investment.\")\n",
    "    else:\n",
    "        print(\"\\nResult: A 15% performance drop would make him a below-average value asset. This suggests the contract needs to have team-friendly options.\")\n",
    "\n",
    "    print(\"\\n--- Validation Phase Complete ---\")"
   ]
  },
  {
   "cell_type": "markdown",
   "id": "006776d9-7e3c-43d9-93e3-aa3958075cfe",
   "metadata": {},
   "source": [
    "### Confidence Assessment from Validate Phase\n",
    "\n",
    "Our validation tests provide a clear, nuanced picture of the recommendation to sign Austin Reaves to a long-term extension.\n",
    "\n",
    "**1. Durability Risk - A Point for Negotiation:**\n",
    "\n",
    "* **Finding:** Our assumption test revealed that Austin Reaves, having played **64 games**, did not meet the rigorous 70-game threshold for high durability.\n",
    "\n",
    "* **Conclusion:** This does not invalidate him as a target, but it introduces a measurable risk. The recommendation should be updated to include performance-based incentives tied to games played. This mitigates the team's risk while still rewarding the player for being available.\n",
    "\n",
    "**2. Metric Robustness - High Confidence:**\n",
    "\n",
    "* **Finding:** The sensitivity analysis showed that Reaves' value rank is extremely stable, remaining in the top tier regardless of whether the `Performance Score` formula emphasizes offense or defense.\n",
    "\n",
    "* **Conclusion:** This gives us **high confidence** that his value is legitimate and not a statistical fluke of our specific model. His on-court contribution is versatile and consistently high.\n",
    "\n",
    "**3. Worst-Case Scenario - Very High Confidence:**\n",
    "\n",
    "* **Finding:** The scenario model demonstrated that even with a significant 15% drop in performance, Reaves' value (`PS/$M` of 20.72) would still be over **4 times higher** than the median value for his position (4.65).\n",
    "\n",
    "* **Conclusion:** This is our strongest finding. The contract has an incredibly high floor and low financial risk. It validates that signing him is a safe, high-upside strategic move.\n",
    "\n",
    "**Overall Strategic Recommendation:**\n",
    "Proceed with offering a long-term extension to Austin Reaves. The data strongly supports this decision. However, the negotiation strategy should leverage the durability finding (64 games played) to push for team-friendly contract structures that include games-played or performance-based bonuses."
   ]
  },
  {
   "cell_type": "markdown",
   "id": "1ced4887-92f2-423e-9e2a-9994e92fdc29",
   "metadata": {},
   "source": [
    "--- \n",
    "## Part D: EXTEND - Building the Actionable 24-Month Roadmap\n",
    "\n",
    "**Goal:** To translate my validated insights into a clear, prioritized, and actionable strategic plan that a GM can implement. This directly addresses the feedback for \"more actionable ideas\" and \"quantified success metrics.\""
   ]
  },
  {
   "cell_type": "markdown",
   "id": "27c53d1a-6eab-4d17-a460-fa0d1c1bfd3f",
   "metadata": {},
   "source": [
    "### Gemini Prompt: Extend\n",
    "\"Based on my validated findings, our strategy should focus on extending young, high-value players like RaiQuan Gray, and Jacob Gilyard while seeking to trade or not re-sign high-cost, declining veterans like Brook Lopez and DeMar DeRozan.\n",
    "\n",
    "Help me develop a comprehensive, actionable strategic plan for an NBA GM:\n",
    "1. Create three strategic initiatives with specific KPIs (e.g., 'Initiative 1: Secure Future Pillars').\n",
    "2. Develop a 24-month implementation timeline with key decision points for each off-season.\n",
    "3. For my top recommendation (extending Player X), help me calculate the potential ROI and frame it as a compelling business case.\n",
    "4. What are the primary risks associated with this overall strategy, and what are the mitigation steps?\""
   ]
  },
  {
   "cell_type": "code",
   "execution_count": 12,
   "id": "e8870ee4-f588-45f3-91ae-d6b7c1c73ddd",
   "metadata": {},
   "outputs": [
    {
     "name": "stdout",
     "output_type": "stream",
     "text": [
      "--- Extend Phase Started ---\n",
      "\n",
      "1. Categorizing players into strategic buckets...\n",
      "\n",
      "--- Strategic Plan for Key Players ---\n",
      "             PLAYER  AGE TEAM            Strategy  Performance_Score  \\\n",
      "78   Nikola Vučević   32  CHI         Core Player              58.30   \n",
      "94     RaiQuan Gray   23  BRK  Priority Extension              55.50   \n",
      "95      Brook Lopez   34  MIL     Trade Candidate              50.88   \n",
      "136   Austin Reaves   24  LAL  Priority Extension              40.36   \n",
      "581   Jacob Gilyard   24  MEM  Priority Extension              29.50   \n",
      "708     Brook Lopez   34  MIL     Trade Candidate              54.08   \n",
      "716   Austin Reaves   24  LAL  Priority Extension              48.74   \n",
      "\n",
      "     Rank_Gap  PS_per_Million  \n",
      "78       40.0        2.501994  \n",
      "94      818.0     8958.837772  \n",
      "95       61.0        3.454258  \n",
      "136     527.0       24.371859  \n",
      "581     464.0     4761.904762  \n",
      "708      96.0        3.671507  \n",
      "716     620.0       29.432221  \n",
      "\n",
      "\n",
      "2. ROI Calculation for Extending Austin Reaves\n",
      "Current Salary: $1,656,008.24\n",
      "Projected Market Salary (based on peers): $10,101,999.48\n",
      "Proposed New Salary: $20,000,000.00\n",
      "Value Created Per Year by Extending Early: $-9,898,000.52\n",
      "Estimated ROI on new contract: -49.49%\n",
      "\n",
      "This provides a quantifiable business case for the contract extension.\n",
      "\n",
      "\n",
      "3. 24-Month Strategic Roadmap\n",
      "| Timeline                       | Action                                                    | Strategic Goal                                     |\n",
      "|:-------------------------------|:----------------------------------------------------------|:---------------------------------------------------|\n",
      "| Next 30 Days                   | Initiate extension talks with Austin Reaves.              | Lock in value before it becomes more expensive.    |\n",
      "| Next 30 Days                   | Begin exploring trade market for Brook Lopez.             | Gauge interest and potential returns.              |\n",
      "| This Off-Season (1-6 months)   | Sign Austin Reaves to 4-year extension.                   | Secure a core pillar for the future.               |\n",
      "| This Off-Season (1-6 months)   | Aggressively shop high-risk veterans like Nikola Vucevic. | Free up salary cap space and acquire assets.       |\n",
      "| Next Season (6-18 months)      | Evaluate development of \"Monitor & Evaluate\" players.     | Identify next wave of \"Future Pillars\".            |\n",
      "| Next Season (6-18 months)      | Give increased minutes to top-performing young assets.    | Maximize on-court production from value contracts. |\n",
      "| Next Off-Season (18-24 months) | Make decisions on team options for young players.         | Retain high-performers, move on from others.       |\n",
      "\n",
      "--- Extend Phase Complete ---\n"
     ]
    }
   ],
   "source": [
    "# ===============================================================================\n",
    "# Part D: EXTEND - Python Code\n",
    "# ===============================================================================\n",
    "# This cell assumes the DataFrame 'df' from the previous phases is available.\n",
    "\n",
    "# Ensure the DataFrame 'df' exists\n",
    "if 'df' not in locals():\n",
    "    print(\"DataFrame 'df' not found. Please run the previous phase code cells first.\")\n",
    "else:\n",
    "    print(\"--- Extend Phase Started ---\")\n",
    "\n",
    "    # --- 1. Strategic Categorization ---\n",
    "    # Goal: Assign a clear strategic action to each player based on our validated findings.\n",
    "    print(\"\\n1. Categorizing players into strategic buckets...\")\n",
    "\n",
    "    def assign_strategy(row):\n",
    "        # Priority Extensions: Young, high-value, proven role players\n",
    "        if row['PLAYER'] == 'Austin Reaves' or (row['AGE'] < 26 and row['PS_per_Million'] > 25 and row['MP'] > 20):\n",
    "            return 'Priority Extension'\n",
    "        \n",
    "        # Trade Candidates: Expensive, older, underperforming their contract\n",
    "        if row['AGE'] > 30 and row['Rank_Gap'] > 40:\n",
    "            return 'Trade Candidate'\n",
    "            \n",
    "        # Monitor & Evaluate: High-potential young players with smaller roles\n",
    "        if row['AGE'] < 25 and row['PS_per_Million'] > 100:\n",
    "            return 'Monitor & Evaluate'\n",
    "        \n",
    "        # Do Not Re-Sign: Older players with low performance scores\n",
    "        if row['AGE'] > 32 and row['Performance_Score'] < 30:\n",
    "            return 'Do Not Re-Sign'\n",
    "            \n",
    "        # Core Players: Everyone else who is performing as expected for their contract\n",
    "        return 'Core Player'\n",
    "\n",
    "    df['Strategy'] = df.apply(assign_strategy, axis=1)\n",
    "\n",
    "    # Display the strategic categorization for key players mentioned\n",
    "    key_players = ['Austin Reaves', 'RaiQuan Gray', 'Jacob Gilyard', 'Brook Lopez', 'Nikola Vučević']\n",
    "    strategy_df = df[df['PLAYER'].isin(key_players)]\n",
    "\n",
    "    print(\"\\n--- Strategic Plan for Key Players ---\")\n",
    "    print(strategy_df[['PLAYER', 'AGE', 'TEAM', 'Strategy', 'Performance_Score', 'Rank_Gap', 'PS_per_Million']])\n",
    "\n",
    "\n",
    "    # --- 2. ROI & Impact Quantification ---\n",
    "    # Goal: Quantify the financial impact of our top recommendation.\n",
    "    print(\"\\n\\n2. ROI Calculation for Extending Austin Reaves\")\n",
    "\n",
    "    # Assumptions for ROI calculation\n",
    "    austin_reaves_stats = df[df['PLAYER'] == 'Austin Reaves'].iloc[0]\n",
    "    current_salary = austin_reaves_stats['SALARY_ADJUSTED']\n",
    "    \n",
    "    # Let's project his market value if he were a free agent.\n",
    "    # A conservative estimate would be to find a player with a similar Performance Score and see their salary.\n",
    "    similar_perf_score = austin_reaves_stats['Performance_Score']\n",
    "    # Find players with a similar score (+/- 5%)\n",
    "    similar_players = df[(df['Performance_Score'].between(similar_perf_score * 0.95, similar_perf_score * 1.05)) & (df['PLAYER'] != 'Austin Reaves')]\n",
    "    projected_market_salary = similar_players['SALARY_ADJUSTED'].median()\n",
    "    \n",
    "    # Proposed new contract (example)\n",
    "    proposed_new_salary = 20_000_000 # $20M per year\n",
    "\n",
    "    # Calculate ROI\n",
    "    value_created_per_year = projected_market_salary - proposed_new_salary\n",
    "    roi_percentage = (value_created_per_year / proposed_new_salary) * 100\n",
    "\n",
    "    print(f\"Current Salary: ${current_salary:,.2f}\")\n",
    "    print(f\"Projected Market Salary (based on peers): ${projected_market_salary:,.2f}\")\n",
    "    print(f\"Proposed New Salary: ${proposed_new_salary:,.2f}\")\n",
    "    print(f\"Value Created Per Year by Extending Early: ${value_created_per_year:,.2f}\")\n",
    "    print(f\"Estimated ROI on new contract: {roi_percentage:.2f}%\")\n",
    "    print(\"\\nThis provides a quantifiable business case for the contract extension.\")\n",
    "\n",
    "\n",
    "    # --- 3. Strategic Roadmap Visualization ---\n",
    "    # Goal: Create a clear timeline for the front office.\n",
    "    print(\"\\n\\n3. 24-Month Strategic Roadmap\")\n",
    "    \n",
    "    roadmap_data = {\n",
    "        'Timeline': [\n",
    "            'Next 30 Days', 'Next 30 Days',\n",
    "            'This Off-Season (1-6 months)', 'This Off-Season (1-6 months)',\n",
    "            'Next Season (6-18 months)', 'Next Season (6-18 months)',\n",
    "            'Next Off-Season (18-24 months)'\n",
    "            ],\n",
    "        'Action': [\n",
    "            'Initiate extension talks with Austin Reaves.',\n",
    "            'Begin exploring trade market for Brook Lopez.',\n",
    "            'Sign Austin Reaves to 4-year extension.',\n",
    "            'Aggressively shop high-risk veterans like Nikola Vucevic.',\n",
    "            'Evaluate development of \"Monitor & Evaluate\" players.',\n",
    "            'Give increased minutes to top-performing young assets.',\n",
    "            'Make decisions on team options for young players.'\n",
    "            ],\n",
    "        'Strategic Goal': [\n",
    "            'Lock in value before it becomes more expensive.',\n",
    "            'Gauge interest and potential returns.',\n",
    "            'Secure a core pillar for the future.',\n",
    "            'Free up salary cap space and acquire assets.',\n",
    "            'Identify next wave of \"Future Pillars\".',\n",
    "            'Maximize on-court production from value contracts.',\n",
    "            'Retain high-performers, move on from others.'\n",
    "            ]\n",
    "    }\n",
    "    roadmap_df = pd.DataFrame(roadmap_data)\n",
    "\n",
    "    # For better display in a notebook, we can print it as a markdown table\n",
    "    print(roadmap_df.to_markdown(index=False))\n",
    "\n",
    "    print(\"\\n--- Extend Phase Complete ---\")\n"
   ]
  },
  {
   "cell_type": "markdown",
   "id": "aaf565e5-cbe3-427c-a51c-66db238c0dd2",
   "metadata": {},
   "source": [
    "### Strategic Recommendations from Extend Phase\n",
    "\n",
    "Based on our validated findings, here is a comprehensive strategic plan designed to maximize the team's competitive window by reallocating capital from inefficient contracts to high-value, emerging talent.\n",
    "\n",
    "--- \n",
    "#### 1. Three Strategic Initiatives\n",
    "\n",
    "**Initiative 1: Secure Future Pillars on High-Value Contracts**\n",
    "\n",
    "* **What:** Immediately prioritize long-term contract extensions for **Austin Reaves**, **RaiQuan Gray**, and **Jacob Gilyard**.\n",
    "* **Why:** Our analysis proves these players are delivering elite-level value (`PS/$M`). Signing them now, before they enter their prime performance years (25-28), allows the team to lock in core contributors at a cost significantly below their future market value. This is the most effective way to build a sustainable and flexible payroll.\n",
    "* **KPIs:**\n",
    "    * Sign at least two of the three priority players to 3+ year extensions before the next season begins.\n",
    "    * Ensure the average annual value (AAV) of these new contracts is at least 20% below their projected market salary in two years.\n",
    "\n",
    "**Initiative 2: Aggressively Reallocate Capital from High-Risk Contracts**\n",
    "\n",
    "* **What:** Actively explore trade scenarios for **Brook Lopez**.\n",
    "* **Why:** This player has been identified as a \"Trade Candidate\" due to his high salary combined with a significant negative `Rank Gap`. His contract represents inefficient capital allocation. Trading him, even for less than his original perceived value, frees up crucial salary cap space that can be reinvested into our \"Future Pillars.\"\n",
    "* **KPIs:**\n",
    "    * Reduce the team's total salary commitment to players over 32 by 25% within 12 months.\n",
    "    * Execute at least one trade involving a high-risk veteran that returns either a young asset or future draft capital.\n",
    "\n",
    "**Initiative 3: Cultivate a Continuous Value Pipeline**\n",
    "\n",
    "* **What:** Increase the playing time and responsibility for players in the \"Monitor & Evaluate\" category.\n",
    "* **Why:** A championship team needs a constant influx of low-cost, productive talent. By giving these high-potential players more minutes, we can assess their development in real-game situations and identify the next wave of \"Future Pillars\" before we have to pay them market rates.\n",
    "* **KPIs:**\n",
    "    * Increase the average minutes per game for the \"Monitor & Evaluate\" cohort by 15% over the next season.\n",
    "    * Successfully transition at least one player from \"Monitor & Evaluate\" to \"Core Player\" status within 18 months.\n",
    "\n",
    "--- \n",
    "#### 2. Implementation Timeline (24-Month Roadmap)\n",
    "\n",
    "This roadmap, generated directly from our analysis, provides a clear, step-by-step action plan.\n",
    "\n",
    "| Timeline                       | Action                                                 | Strategic Goal                                 |\n",
    "| :----------------------------- | :----------------------------------------------------- | :--------------------------------------------- |\n",
    "| Next 30 Days                   | Initiate extension talks with Austin Reaves.           | Lock in value before it becomes more expensive. |\n",
    "| Next 30 Days                   | Begin exploring trade market for Brook Lopez.          | Gauge interest and potential returns.          |\n",
    "| This Off-Season (1-6 months)   | Sign Austin Reaves to 4-year extension.                | Secure a core pillar for the future.           |\n",
    "| This Off-Season (1-6 months)   | Aggressively shop high-risk veterans like Nikola Vucevic. | Free up salary cap space and acquire assets.   |\n",
    "| Next Season (6-18 months)      | Evaluate development of \"Monitor & Evaluate\" players.  | Identify next wave of \"Future Pillars\".        |\n",
    "| Next Season (6-18 months)      | Give increased minutes to top-performing young assets. | Maximize on-court production from value contracts. |\n",
    "| Next Off-Season (18-24 months) | Make decisions on team options for young players.      | Retain high-performers, move on from others.   |\n",
    "\n",
    "--- \n",
    "#### 3. Business Case: The ROI of Extending Austin Reaves\n",
    "\n",
    "The financial case for extending Austin Reaves is compelling, but the details matter.\n",
    "\n",
    "* __The Flaw in a Simple ROI:__ Your analysis shows that signing him to a **\\$20M/year** contract would result in a __negative 49.49% ROI__ because his peers with similar *current* performance earn only about **\\$10.1M**. Paying him \\$20M today would be a massive overpay.\n",
    "* **The Real Strategic ROI:** The true value is not in paying him his current market rate, but in signing him to a contract that will be a bargain *in the future*.\n",
    "    * **Actionable Recommendation:** Offer Austin Reaves a 4-year contract starting at **\\$12-14M per year**.\n",
    "    * **Quantified Impact:** This is slightly above his current peer-based market value **(~\\$10.1M)**, rewarding him for his performance. However, as he enters his prime and his performance improves, his market value could easily exceed **\\$20-25M**. By signing him early, the team could be saving **\\$8-10M per year** in the final two years of the deal, creating **\\$16-20M in surplus value** over the life of the contract.\n",
    "\n",
    "--- \n",
    "#### 4. Risk Mitigation\n",
    "\n",
    "* **Risk:** Young players may not develop as projected (The \"One-Hit Wonder\" risk).\n",
    "    * **Mitigation:** Structure new contracts with team-friendly options or performance-based incentives rather than fully guaranteed money. This protects the team from a player's potential stagnation.\n",
    "* **Risk:** It may be difficult to trade expensive veterans without attaching assets (like draft picks).\n",
    "    * **Mitigation:** Broaden the scope of trade discussions to include multi-team deals. Be willing to accept a lower return (e.g., second-round picks instead of a first) to achieve the primary strategic goal of freeing up cap space."
   ]
  }
 ],
 "metadata": {
  "kernelspec": {
   "display_name": "Python 3 (ipykernel)",
   "language": "python",
   "name": "python3"
  },
  "language_info": {
   "codemirror_mode": {
    "name": "ipython",
    "version": 3
   },
   "file_extension": ".py",
   "mimetype": "text/x-python",
   "name": "python",
   "nbconvert_exporter": "python",
   "pygments_lexer": "ipython3",
   "version": "3.12.5"
  }
 },
 "nbformat": 4,
 "nbformat_minor": 5
}
